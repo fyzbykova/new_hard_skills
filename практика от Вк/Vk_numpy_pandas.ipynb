{
 "cells": [
  {
   "cell_type": "code",
   "execution_count": 1,
   "id": "d5d29cb6",
   "metadata": {},
   "outputs": [],
   "source": [
    "import numpy as np"
   ]
  },
  {
   "cell_type": "code",
   "execution_count": 3,
   "id": "ee6412bb",
   "metadata": {},
   "outputs": [
    {
     "data": {
      "text/plain": [
       "array([[5.2, 3. , 4.5],\n",
       "       [9.1, 0.1, 0.3]])"
      ]
     },
     "execution_count": 3,
     "metadata": {},
     "output_type": "execute_result"
    }
   ],
   "source": [
    "# сохдание массива\n",
    "\n",
    "data1 = [ [5.2, 3.0, 4.5] , [9.1, 0.1, 0.3] ]\n",
    "arr1 = np.array(data1)\n",
    "arr1"
   ]
  },
  {
   "cell_type": "code",
   "execution_count": 4,
   "id": "8fead7b0",
   "metadata": {},
   "outputs": [
    {
     "data": {
      "text/plain": [
       "2"
      ]
     },
     "execution_count": 4,
     "metadata": {},
     "output_type": "execute_result"
    }
   ],
   "source": [
    "# количество измерений массива\n",
    "\n",
    "arr1.ndim"
   ]
  },
  {
   "cell_type": "code",
   "execution_count": 5,
   "id": "5cf75eae",
   "metadata": {},
   "outputs": [
    {
     "data": {
      "text/plain": [
       "6"
      ]
     },
     "execution_count": 5,
     "metadata": {},
     "output_type": "execute_result"
    }
   ],
   "source": [
    "# размер массива\n",
    "\n",
    "arr1.size"
   ]
  },
  {
   "cell_type": "code",
   "execution_count": 6,
   "id": "3f6503a2",
   "metadata": {},
   "outputs": [
    {
     "data": {
      "text/plain": [
       "(2, 3)"
      ]
     },
     "execution_count": 6,
     "metadata": {},
     "output_type": "execute_result"
    }
   ],
   "source": [
    "# форма массива\n",
    "\n",
    "arr1.shape"
   ]
  },
  {
   "cell_type": "code",
   "execution_count": 7,
   "id": "664c9f38",
   "metadata": {},
   "outputs": [
    {
     "data": {
      "text/plain": [
       "dtype('float64')"
      ]
     },
     "execution_count": 7,
     "metadata": {},
     "output_type": "execute_result"
    }
   ],
   "source": [
    "# тип массива\n",
    "\n",
    "arr1.dtype"
   ]
  },
  {
   "cell_type": "code",
   "execution_count": 8,
   "id": "dfd9bb29",
   "metadata": {},
   "outputs": [
    {
     "data": {
      "text/plain": [
       "8"
      ]
     },
     "execution_count": 8,
     "metadata": {},
     "output_type": "execute_result"
    }
   ],
   "source": [
    "# количество элементов массива\n",
    "\n",
    "arr1.itemsize"
   ]
  },
  {
   "cell_type": "markdown",
   "id": "b08bbed5",
   "metadata": {},
   "source": [
    "### Рассморим массивы Numpy"
   ]
  },
  {
   "cell_type": "code",
   "execution_count": 9,
   "id": "ba1975f3",
   "metadata": {},
   "outputs": [
    {
     "data": {
      "text/plain": [
       "array([0., 0., 0., 0., 0., 0., 0., 0., 0., 0.])"
      ]
     },
     "execution_count": 9,
     "metadata": {},
     "output_type": "execute_result"
    }
   ],
   "source": [
    "# создаём массив из нулей\n",
    "\n",
    "np.zeros(10)"
   ]
  },
  {
   "cell_type": "code",
   "execution_count": 10,
   "id": "566a0a5f",
   "metadata": {},
   "outputs": [
    {
     "data": {
      "text/plain": [
       "array([[1., 1.],\n",
       "       [1., 1.]])"
      ]
     },
     "execution_count": 10,
     "metadata": {},
     "output_type": "execute_result"
    }
   ],
   "source": [
    "# создаём массив из единиц\n",
    "\n",
    "np.ones((2,2))"
   ]
  },
  {
   "cell_type": "code",
   "execution_count": 11,
   "id": "a545e611",
   "metadata": {},
   "outputs": [
    {
     "data": {
      "text/plain": [
       "array([ 0,  1,  2,  3,  4,  5,  6,  7,  8,  9, 10, 11, 12, 13, 14])"
      ]
     },
     "execution_count": 11,
     "metadata": {},
     "output_type": "execute_result"
    }
   ],
   "source": [
    "# создаём массив итерированный от 0 до N\n",
    "\n",
    "np.arange(15)"
   ]
  },
  {
   "cell_type": "code",
   "execution_count": 12,
   "id": "1df49427",
   "metadata": {},
   "outputs": [
    {
     "data": {
      "text/plain": [
       "array([0.        , 0.04166667, 0.08333333, 0.125     , 0.16666667,\n",
       "       0.20833333, 0.25      , 0.29166667, 0.33333333, 0.375     ,\n",
       "       0.41666667, 0.45833333, 0.5       , 0.54166667, 0.58333333,\n",
       "       0.625     , 0.66666667, 0.70833333, 0.75      , 0.79166667,\n",
       "       0.83333333, 0.875     , 0.91666667, 0.95833333, 1.        ])"
      ]
     },
     "execution_count": 12,
     "metadata": {},
     "output_type": "execute_result"
    }
   ],
   "source": [
    "# создаём массив итерированный от 0 до 1 с количеством 25\n",
    "\n",
    "np.linspace(0, 1, 25)"
   ]
  },
  {
   "cell_type": "code",
   "execution_count": 13,
   "id": "2912fc53",
   "metadata": {},
   "outputs": [
    {
     "data": {
      "text/plain": [
       "array([[1., 0., 0.],\n",
       "       [0., 1., 0.],\n",
       "       [0., 0., 1.]])"
      ]
     },
     "execution_count": 13,
     "metadata": {},
     "output_type": "execute_result"
    }
   ],
   "source": [
    "# единичная матрица\n",
    "\n",
    "np.eye(3)"
   ]
  },
  {
   "cell_type": "markdown",
   "id": "55a21460",
   "metadata": {},
   "source": [
    "### Операции между массивами и скалярами"
   ]
  },
  {
   "cell_type": "code",
   "execution_count": 16,
   "id": "8f798825",
   "metadata": {},
   "outputs": [
    {
     "data": {
      "text/plain": [
       "array([[1., 2., 3.],\n",
       "       [4., 5., 6.]])"
      ]
     },
     "execution_count": 16,
     "metadata": {},
     "output_type": "execute_result"
    }
   ],
   "source": [
    "arr = np.array([ [1., 2., 3.] , [4., 5., 6.]])\n",
    "arr"
   ]
  },
  {
   "cell_type": "code",
   "execution_count": 17,
   "id": "69746003",
   "metadata": {},
   "outputs": [
    {
     "data": {
      "text/plain": [
       "array([[ 1.,  4.,  9.],\n",
       "       [16., 25., 36.]])"
      ]
     },
     "execution_count": 17,
     "metadata": {},
     "output_type": "execute_result"
    }
   ],
   "source": [
    "arr*arr"
   ]
  },
  {
   "cell_type": "code",
   "execution_count": 18,
   "id": "3f646fb2",
   "metadata": {},
   "outputs": [
    {
     "data": {
      "text/plain": [
       "array([[0., 0., 0.],\n",
       "       [0., 0., 0.]])"
      ]
     },
     "execution_count": 18,
     "metadata": {},
     "output_type": "execute_result"
    }
   ],
   "source": [
    "arr-arr"
   ]
  },
  {
   "cell_type": "code",
   "execution_count": 19,
   "id": "70678e0e",
   "metadata": {},
   "outputs": [
    {
     "data": {
      "text/plain": [
       "array([[1.        , 0.5       , 0.33333333],\n",
       "       [0.25      , 0.2       , 0.16666667]])"
      ]
     },
     "execution_count": 19,
     "metadata": {},
     "output_type": "execute_result"
    }
   ],
   "source": [
    "1/arr"
   ]
  },
  {
   "cell_type": "markdown",
   "id": "c492b7c0",
   "metadata": {},
   "source": [
    "### Случайные массивы"
   ]
  },
  {
   "cell_type": "code",
   "execution_count": 22,
   "id": "d8827903",
   "metadata": {},
   "outputs": [
    {
     "data": {
      "text/plain": [
       "array([[-1.62740201,  1.10246887],\n",
       "       [-1.44980204,  1.23891725],\n",
       "       [ 0.62519556,  2.27151853]])"
      ]
     },
     "execution_count": 22,
     "metadata": {},
     "output_type": "execute_result"
    }
   ],
   "source": [
    "# рандомный массив заданного размера\n",
    "\n",
    "np.random.randn(3,2)"
   ]
  },
  {
   "cell_type": "code",
   "execution_count": 24,
   "id": "794b0bc6",
   "metadata": {},
   "outputs": [
    {
     "data": {
      "text/plain": [
       "array([277, 963, 951, 346])"
      ]
     },
     "execution_count": 24,
     "metadata": {},
     "output_type": "execute_result"
    }
   ],
   "source": [
    "# рандомный массив от 0 до 1000 с числом 4\n",
    "\n",
    "np.random.randint(0, 1000, 4)"
   ]
  },
  {
   "cell_type": "markdown",
   "id": "f495bf21",
   "metadata": {},
   "source": [
    "### Индексирование"
   ]
  },
  {
   "cell_type": "code",
   "execution_count": 25,
   "id": "25d5274f",
   "metadata": {},
   "outputs": [
    {
     "data": {
      "text/plain": [
       "array([ 0,  1,  2,  3,  4,  5,  6,  7,  8,  9, 10, 11, 12, 13, 14])"
      ]
     },
     "execution_count": 25,
     "metadata": {},
     "output_type": "execute_result"
    }
   ],
   "source": [
    "np.arange(15)"
   ]
  },
  {
   "cell_type": "code",
   "execution_count": 26,
   "id": "ba7395c7",
   "metadata": {},
   "outputs": [
    {
     "data": {
      "text/plain": [
       "array([ 8,  9, 10, 11])"
      ]
     },
     "execution_count": 26,
     "metadata": {},
     "output_type": "execute_result"
    }
   ],
   "source": [
    "# обратимся к элементам с 8 по 12\n",
    "\n",
    "np.arange(15)[8:12]"
   ]
  },
  {
   "cell_type": "code",
   "execution_count": 28,
   "id": "ab802932",
   "metadata": {},
   "outputs": [
    {
     "data": {
      "text/plain": [
       "array([7, 8, 9])"
      ]
     },
     "execution_count": 28,
     "metadata": {},
     "output_type": "execute_result"
    }
   ],
   "source": [
    "# многомерные массивы\n",
    "\n",
    "array2d = np.array([ [1,2,3], [4,5,6], [7,8,9]])\n",
    "array2d[2]"
   ]
  },
  {
   "cell_type": "code",
   "execution_count": 29,
   "id": "1f51f4a9",
   "metadata": {},
   "outputs": [
    {
     "data": {
      "text/plain": [
       "3"
      ]
     },
     "execution_count": 29,
     "metadata": {},
     "output_type": "execute_result"
    }
   ],
   "source": [
    "# образение к определенному элементу\n",
    "\n",
    "array2d[0, 2]"
   ]
  },
  {
   "cell_type": "code",
   "execution_count": 30,
   "id": "d9e5a540",
   "metadata": {},
   "outputs": [
    {
     "data": {
      "text/plain": [
       "3"
      ]
     },
     "execution_count": 30,
     "metadata": {},
     "output_type": "execute_result"
    }
   ],
   "source": [
    "array2d[0][2]"
   ]
  },
  {
   "cell_type": "code",
   "execution_count": 32,
   "id": "82a6cbc9",
   "metadata": {},
   "outputs": [
    {
     "data": {
      "text/plain": [
       "12"
      ]
     },
     "execution_count": 32,
     "metadata": {},
     "output_type": "execute_result"
    }
   ],
   "source": [
    "# 3-х мерный массив\n",
    "\n",
    "array3d = np.array([ [[1,2,3], [4,5,6]], [[7,8,9], [10,11,12]] ])\n",
    "array3d[1,1][2]"
   ]
  },
  {
   "cell_type": "code",
   "execution_count": 34,
   "id": "eb85547d",
   "metadata": {},
   "outputs": [
    {
     "data": {
      "text/plain": [
       "array([[[2, 3]]])"
      ]
     },
     "execution_count": 34,
     "metadata": {},
     "output_type": "execute_result"
    }
   ],
   "source": [
    "# обращение к части элементов\n",
    "\n",
    "array3d[:1,:1,1:]"
   ]
  },
  {
   "cell_type": "code",
   "execution_count": 35,
   "id": "cb21ffbf",
   "metadata": {},
   "outputs": [
    {
     "data": {
      "text/plain": [
       "array([ True, False, False,  True, False, False, False])"
      ]
     },
     "execution_count": 35,
     "metadata": {},
     "output_type": "execute_result"
    }
   ],
   "source": [
    "# будевое индексирование\n",
    "\n",
    "names = np.array(['Bob', 'Joe', 'Will', 'Bob', 'Will', 'Joe', 'Joe'])\n",
    "names == 'Bob'"
   ]
  },
  {
   "cell_type": "code",
   "execution_count": 37,
   "id": "2363a365",
   "metadata": {},
   "outputs": [
    {
     "data": {
      "text/plain": [
       "array([ True, False,  True,  True,  True, False, False])"
      ]
     },
     "execution_count": 37,
     "metadata": {},
     "output_type": "execute_result"
    }
   ],
   "source": [
    "# создание масок\n",
    "\n",
    "mask = (names == 'Bob') | (names == 'Will')\n",
    "mask"
   ]
  },
  {
   "cell_type": "code",
   "execution_count": 38,
   "id": "a40c8e1d",
   "metadata": {},
   "outputs": [
    {
     "data": {
      "text/plain": [
       "array(['Bob', 'Will', 'Bob', 'Will'], dtype='<U4')"
      ]
     },
     "execution_count": 38,
     "metadata": {},
     "output_type": "execute_result"
    }
   ],
   "source": [
    "names[mask]"
   ]
  },
  {
   "cell_type": "markdown",
   "id": "90ac7a8a",
   "metadata": {},
   "source": [
    "### Транспонирование массивов"
   ]
  },
  {
   "cell_type": "code",
   "execution_count": 41,
   "id": "91144688",
   "metadata": {},
   "outputs": [
    {
     "data": {
      "text/plain": [
       "array([[[ 1,  2,  3],\n",
       "        [ 4,  5,  6]],\n",
       "\n",
       "       [[ 7,  8,  9],\n",
       "        [10, 11, 12]]])"
      ]
     },
     "execution_count": 41,
     "metadata": {},
     "output_type": "execute_result"
    }
   ],
   "source": [
    "array3d"
   ]
  },
  {
   "cell_type": "code",
   "execution_count": 42,
   "id": "847426d1",
   "metadata": {},
   "outputs": [
    {
     "data": {
      "text/plain": [
       "(2, 2, 3)"
      ]
     },
     "execution_count": 42,
     "metadata": {},
     "output_type": "execute_result"
    }
   ],
   "source": [
    "array3d.shape"
   ]
  },
  {
   "cell_type": "code",
   "execution_count": 43,
   "id": "65edfe1b",
   "metadata": {},
   "outputs": [
    {
     "data": {
      "text/plain": [
       "array([[[ 1,  7],\n",
       "        [ 4, 10]],\n",
       "\n",
       "       [[ 2,  8],\n",
       "        [ 5, 11]],\n",
       "\n",
       "       [[ 3,  9],\n",
       "        [ 6, 12]]])"
      ]
     },
     "execution_count": 43,
     "metadata": {},
     "output_type": "execute_result"
    }
   ],
   "source": [
    "array3d.T"
   ]
  },
  {
   "cell_type": "code",
   "execution_count": 44,
   "id": "e36edb36",
   "metadata": {},
   "outputs": [
    {
     "data": {
      "text/plain": [
       "(3, 2, 2)"
      ]
     },
     "execution_count": 44,
     "metadata": {},
     "output_type": "execute_result"
    }
   ],
   "source": [
    "array3d.T.shape"
   ]
  },
  {
   "cell_type": "markdown",
   "id": "a79e57c5",
   "metadata": {},
   "source": [
    "###  Поэлементные операции над массивами"
   ]
  },
  {
   "cell_type": "markdown",
   "id": "ec19e654",
   "metadata": {},
   "source": [
    "Это векторные обёртки вокруг простых функций, которые принимают одно или несколько скалярных значений и порождают один или несколько скалярных результатов"
   ]
  },
  {
   "cell_type": "code",
   "execution_count": 46,
   "id": "22a52052",
   "metadata": {},
   "outputs": [
    {
     "data": {
      "text/plain": [
       "array([[[1.        , 1.41421356, 1.73205081],\n",
       "        [2.        , 2.23606798, 2.44948974]],\n",
       "\n",
       "       [[2.64575131, 2.82842712, 3.        ],\n",
       "        [3.16227766, 3.31662479, 3.46410162]]])"
      ]
     },
     "execution_count": 46,
     "metadata": {},
     "output_type": "execute_result"
    }
   ],
   "source": [
    "np.sqrt(array3d)"
   ]
  },
  {
   "cell_type": "code",
   "execution_count": 47,
   "id": "f80aaf65",
   "metadata": {},
   "outputs": [
    {
     "data": {
      "text/plain": [
       "array([[[2.71828183e+00, 7.38905610e+00, 2.00855369e+01],\n",
       "        [5.45981500e+01, 1.48413159e+02, 4.03428793e+02]],\n",
       "\n",
       "       [[1.09663316e+03, 2.98095799e+03, 8.10308393e+03],\n",
       "        [2.20264658e+04, 5.98741417e+04, 1.62754791e+05]]])"
      ]
     },
     "execution_count": 47,
     "metadata": {},
     "output_type": "execute_result"
    }
   ],
   "source": [
    "np.exp(array3d)"
   ]
  },
  {
   "cell_type": "markdown",
   "id": "d155d3a6",
   "metadata": {},
   "source": [
    "###  Математические и статистические операции"
   ]
  },
  {
   "cell_type": "code",
   "execution_count": 49,
   "id": "b8d89c07",
   "metadata": {},
   "outputs": [
    {
     "data": {
      "text/plain": [
       "array([[ 0.27154685, -0.6498606 ,  0.25069969, -0.34516959],\n",
       "       [ 0.56414574, -0.67943735, -1.7059242 , -0.69102489],\n",
       "       [-1.31211143, -1.07402893, -1.63850204, -0.20588566],\n",
       "       [-0.62596336,  0.42270239,  1.5751369 , -1.86910806],\n",
       "       [ 1.18400669,  1.31092228, -0.9248189 ,  0.39068352]])"
      ]
     },
     "execution_count": 49,
     "metadata": {},
     "output_type": "execute_result"
    }
   ],
   "source": [
    "arr = np.random.randn(5, 4)\n",
    "arr"
   ]
  },
  {
   "cell_type": "code",
   "execution_count": 50,
   "id": "60bf4fee",
   "metadata": {},
   "outputs": [
    {
     "data": {
      "text/plain": [
       "(5, 4)"
      ]
     },
     "execution_count": 50,
     "metadata": {},
     "output_type": "execute_result"
    }
   ],
   "source": [
    "# форма\n",
    "\n",
    "arr.shape"
   ]
  },
  {
   "cell_type": "code",
   "execution_count": 52,
   "id": "1903da2a",
   "metadata": {},
   "outputs": [
    {
     "data": {
      "text/plain": [
       "-0.2875995480568788"
      ]
     },
     "execution_count": 52,
     "metadata": {},
     "output_type": "execute_result"
    }
   ],
   "source": [
    "# среднее\n",
    "\n",
    "arr.mean()"
   ]
  },
  {
   "cell_type": "code",
   "execution_count": 54,
   "id": "d2a5d663",
   "metadata": {},
   "outputs": [
    {
     "data": {
      "text/plain": [
       "-5.751990961137576"
      ]
     },
     "execution_count": 54,
     "metadata": {},
     "output_type": "execute_result"
    }
   ],
   "source": [
    "# сумма\n",
    "\n",
    "arr.sum()"
   ]
  },
  {
   "cell_type": "code",
   "execution_count": 55,
   "id": "a8e9a20b",
   "metadata": {},
   "outputs": [
    {
     "data": {
      "text/plain": [
       "1.5751369038837635"
      ]
     },
     "execution_count": 55,
     "metadata": {},
     "output_type": "execute_result"
    }
   ],
   "source": [
    "# max element\n",
    "\n",
    "np.max(arr)"
   ]
  },
  {
   "cell_type": "code",
   "execution_count": 58,
   "id": "53653c7c",
   "metadata": {},
   "outputs": [
    {
     "data": {
      "text/plain": [
       "array([ 0.08162448, -0.6697022 , -2.44340856, -2.72050468])"
      ]
     },
     "execution_count": 58,
     "metadata": {},
     "output_type": "execute_result"
    }
   ],
   "source": [
    "# максимальный элемент по оси 0\n",
    "\n",
    "arr.sum(axis = 0)"
   ]
  },
  {
   "cell_type": "code",
   "execution_count": 59,
   "id": "6be46183",
   "metadata": {},
   "outputs": [],
   "source": [
    "arr = np.array([ [0,1,2], [3,4,5], [6,7,8]])"
   ]
  },
  {
   "cell_type": "code",
   "execution_count": 61,
   "id": "9ecebb23",
   "metadata": {},
   "outputs": [
    {
     "data": {
      "text/plain": [
       "array([[ 0,  1,  2],\n",
       "       [ 3,  5,  7],\n",
       "       [ 9, 12, 15]])"
      ]
     },
     "execution_count": 61,
     "metadata": {},
     "output_type": "execute_result"
    }
   ],
   "source": [
    "# кумулятивная сумма с указанием строки\n",
    "\n",
    "arr.cumsum(axis = 0)"
   ]
  },
  {
   "cell_type": "code",
   "execution_count": 62,
   "id": "8edff64b",
   "metadata": {},
   "outputs": [
    {
     "data": {
      "text/plain": [
       "array([[ 0,  1,  2],\n",
       "       [ 0,  4, 10],\n",
       "       [ 0, 28, 80]])"
      ]
     },
     "execution_count": 62,
     "metadata": {},
     "output_type": "execute_result"
    }
   ],
   "source": [
    "# кумулятивное произведение с указанием строки\n",
    "\n",
    "arr.cumprod(axis = 0)"
   ]
  },
  {
   "cell_type": "markdown",
   "id": "0d178371",
   "metadata": {},
   "source": [
    "###  Сортировка"
   ]
  },
  {
   "cell_type": "code",
   "execution_count": 64,
   "id": "f7b82017",
   "metadata": {},
   "outputs": [
    {
     "data": {
      "text/plain": [
       "array([ 1.16398739,  0.11517633, -0.51982883,  1.98630474,  0.76111595,\n",
       "        0.21825865, -0.59807694, -0.96489668])"
      ]
     },
     "execution_count": 64,
     "metadata": {},
     "output_type": "execute_result"
    }
   ],
   "source": [
    "arr = np.random.randn(8)\n",
    "arr"
   ]
  },
  {
   "cell_type": "code",
   "execution_count": 66,
   "id": "5bcf49b7",
   "metadata": {},
   "outputs": [
    {
     "data": {
      "text/plain": [
       "array([-0.96489668, -0.59807694, -0.51982883,  0.11517633,  0.21825865,\n",
       "        0.76111595,  1.16398739,  1.98630474])"
      ]
     },
     "execution_count": 66,
     "metadata": {},
     "output_type": "execute_result"
    }
   ],
   "source": [
    "arr.sort()\n",
    "arr"
   ]
  },
  {
   "cell_type": "code",
   "execution_count": 68,
   "id": "0b3f496d",
   "metadata": {},
   "outputs": [
    {
     "data": {
      "text/plain": [
       "array([[ 1.56184918,  0.20004556,  1.96192741],\n",
       "       [-0.50671163,  0.44668484, -0.69587303],\n",
       "       [ 0.56198284, -0.73077022, -1.72186033],\n",
       "       [ 0.91639371,  0.29417014, -1.34549514],\n",
       "       [-0.57165057,  0.44958709,  0.65597874]])"
      ]
     },
     "execution_count": 68,
     "metadata": {},
     "output_type": "execute_result"
    }
   ],
   "source": [
    "arr = np.random.randn(5, 3)\n",
    "arr"
   ]
  },
  {
   "cell_type": "code",
   "execution_count": 71,
   "id": "0911c476",
   "metadata": {},
   "outputs": [
    {
     "data": {
      "text/plain": [
       "array([[-0.57165057, -0.73077022, -1.72186033],\n",
       "       [-0.50671163,  0.20004556, -1.34549514],\n",
       "       [ 0.56198284,  0.29417014, -0.69587303],\n",
       "       [ 0.91639371,  0.44668484,  0.65597874],\n",
       "       [ 1.56184918,  0.44958709,  1.96192741]])"
      ]
     },
     "execution_count": 71,
     "metadata": {},
     "output_type": "execute_result"
    }
   ],
   "source": [
    "# сортировка с указанием оси - 0 (с учётом строк)\n",
    "\n",
    "arr.sort(0)\n",
    "arr"
   ]
  },
  {
   "cell_type": "code",
   "execution_count": 72,
   "id": "5709effe",
   "metadata": {},
   "outputs": [
    {
     "data": {
      "text/plain": [
       "array([[-1.72186033, -0.73077022, -0.57165057],\n",
       "       [-1.34549514, -0.50671163,  0.20004556],\n",
       "       [-0.69587303,  0.29417014,  0.56198284],\n",
       "       [ 0.44668484,  0.65597874,  0.91639371],\n",
       "       [ 0.44958709,  1.56184918,  1.96192741]])"
      ]
     },
     "execution_count": 72,
     "metadata": {},
     "output_type": "execute_result"
    }
   ],
   "source": [
    "# сортировка с указанием оси - 1 (с учётом столбцов)\n",
    "\n",
    "arr.sort(1)\n",
    "arr"
   ]
  },
  {
   "cell_type": "code",
   "execution_count": 73,
   "id": "911284de",
   "metadata": {},
   "outputs": [
    {
     "data": {
      "text/plain": [
       "array([[-0.86350976, -0.66474988,  1.55386502],\n",
       "       [-0.66518588, -0.15714934,  1.63803628],\n",
       "       [-0.74612821, -0.30655186, -0.16538026],\n",
       "       [ 0.1473756 ,  0.68485287,  2.00457904],\n",
       "       [ 0.01920384,  0.53339461,  0.61335318]])"
      ]
     },
     "execution_count": 73,
     "metadata": {},
     "output_type": "execute_result"
    }
   ],
   "source": [
    "# возвращает копию\n",
    "\n",
    "arr = np.random.randn(5, 3)\n",
    "np.sort(arr)"
   ]
  },
  {
   "cell_type": "code",
   "execution_count": 75,
   "id": "b7bc6dab",
   "metadata": {},
   "outputs": [
    {
     "data": {
      "text/plain": [
       "array([[-0.86350976, -0.66474988,  1.55386502],\n",
       "       [-0.66518588, -0.15714934,  1.63803628],\n",
       "       [-0.74612821, -0.30655186, -0.16538026],\n",
       "       [ 0.1473756 ,  0.68485287,  2.00457904],\n",
       "       [ 0.01920384,  0.53339461,  0.61335318]])"
      ]
     },
     "execution_count": 75,
     "metadata": {},
     "output_type": "execute_result"
    }
   ],
   "source": [
    "arr = np.sort(arr)\n",
    "arr"
   ]
  },
  {
   "cell_type": "markdown",
   "id": "e8852bb1",
   "metadata": {},
   "source": [
    "###  Хранение массивов на диске в двоичном формате"
   ]
  },
  {
   "cell_type": "markdown",
   "id": "2a75d702",
   "metadata": {},
   "source": [
    "np.save и np.load - основные функции для эффективного сохранения и загрузки данных с диска. По умолчанию массивы хранятся в несжатом двоичном формате в файле с разрешением .npy"
   ]
  },
  {
   "cell_type": "code",
   "execution_count": 78,
   "id": "b007729b",
   "metadata": {},
   "outputs": [
    {
     "data": {
      "text/plain": [
       "array([0, 1, 2, 3, 4, 5, 6, 7, 8, 9])"
      ]
     },
     "execution_count": 78,
     "metadata": {},
     "output_type": "execute_result"
    }
   ],
   "source": [
    "arr = np.arange(10)\n",
    "arr"
   ]
  },
  {
   "cell_type": "code",
   "execution_count": 79,
   "id": "23123756",
   "metadata": {},
   "outputs": [],
   "source": [
    "# сохраняем массив\n",
    "\n",
    "np.save('some_array', arr)"
   ]
  },
  {
   "cell_type": "code",
   "execution_count": 80,
   "id": "7fc6b429",
   "metadata": {},
   "outputs": [
    {
     "data": {
      "text/plain": [
       "array([0, 1, 2, 3, 4, 5, 6, 7, 8, 9])"
      ]
     },
     "execution_count": 80,
     "metadata": {},
     "output_type": "execute_result"
    }
   ],
   "source": [
    "# загружаем массив\n",
    "\n",
    "np.load('some_array.npy')"
   ]
  },
  {
   "cell_type": "markdown",
   "id": "54a4c747",
   "metadata": {},
   "source": [
    "Можно сохранить несколько массивов в zip-архиве с помощью функции np.savez, которой массивы передаются в виде именно"
   ]
  },
  {
   "cell_type": "code",
   "execution_count": 81,
   "id": "3a8f7651",
   "metadata": {},
   "outputs": [],
   "source": [
    "np.savez('array_archive.npz', a=arr, b=arr)"
   ]
  },
  {
   "cell_type": "code",
   "execution_count": 82,
   "id": "fc8a676a",
   "metadata": {},
   "outputs": [],
   "source": [
    "arch = np.load('array_archive.npz')"
   ]
  },
  {
   "cell_type": "code",
   "execution_count": 83,
   "id": "b12be0f5",
   "metadata": {},
   "outputs": [
    {
     "data": {
      "text/plain": [
       "array([0, 1, 2, 3, 4, 5, 6, 7, 8, 9])"
      ]
     },
     "execution_count": 83,
     "metadata": {},
     "output_type": "execute_result"
    }
   ],
   "source": [
    "arch['b']"
   ]
  },
  {
   "cell_type": "markdown",
   "id": "1c9f0d70",
   "metadata": {},
   "source": [
    "#### Задание"
   ]
  },
  {
   "cell_type": "code",
   "execution_count": 90,
   "id": "b0dc56b9",
   "metadata": {},
   "outputs": [],
   "source": [
    "# создаём вектор \n",
    "\n",
    "arr = np.linspace(10, 500, 2)"
   ]
  },
  {
   "cell_type": "code",
   "execution_count": 94,
   "id": "2a8f4e23",
   "metadata": {},
   "outputs": [],
   "source": [
    "arr = arr**2"
   ]
  },
  {
   "cell_type": "code",
   "execution_count": 96,
   "id": "480cc715",
   "metadata": {},
   "outputs": [],
   "source": [
    "arr = arr-234"
   ]
  },
  {
   "cell_type": "code",
   "execution_count": 98,
   "id": "1c40d565",
   "metadata": {},
   "outputs": [
    {
     "data": {
      "text/plain": [
       "249632.0"
      ]
     },
     "execution_count": 98,
     "metadata": {},
     "output_type": "execute_result"
    }
   ],
   "source": [
    "arr.sum()"
   ]
  },
  {
   "cell_type": "markdown",
   "id": "fca54e52",
   "metadata": {},
   "source": [
    "### Series и Datafreme"
   ]
  },
  {
   "cell_type": "markdown",
   "id": "a2c8fc8e",
   "metadata": {},
   "source": [
    "### Pandas Series"
   ]
  },
  {
   "cell_type": "markdown",
   "id": "7312a3f9",
   "metadata": {},
   "source": [
    "Структура/объект Series представляет из себя объект, похожий на одномерный массив (питоновский список), но отличительной его чертой является наличие ассоциированных меток таки как индексов, вдоль каждого элемента их списка. Такая особенность превращает его в ассоциированный массив в Python."
   ]
  },
  {
   "cell_type": "code",
   "execution_count": 1,
   "id": "6bf9fcf4",
   "metadata": {},
   "outputs": [],
   "source": [
    "import pandas as pd\n",
    "import numpy as np"
   ]
  },
  {
   "cell_type": "code",
   "execution_count": 101,
   "id": "3d9dce9f",
   "metadata": {},
   "outputs": [
    {
     "data": {
      "text/plain": [
       "0     5\n",
       "1     6\n",
       "2     7\n",
       "3     8\n",
       "4     9\n",
       "5    10\n",
       "dtype: int64"
      ]
     },
     "execution_count": 101,
     "metadata": {},
     "output_type": "execute_result"
    }
   ],
   "source": [
    "my_series = pd.Series([5,6,7,8,9,10])\n",
    "my_series"
   ]
  },
  {
   "cell_type": "code",
   "execution_count": 102,
   "id": "c61132c4",
   "metadata": {},
   "outputs": [
    {
     "data": {
      "text/plain": [
       "RangeIndex(start=0, stop=6, step=1)"
      ]
     },
     "execution_count": 102,
     "metadata": {},
     "output_type": "execute_result"
    }
   ],
   "source": [
    "my_series.index"
   ]
  },
  {
   "cell_type": "code",
   "execution_count": 103,
   "id": "c91bef68",
   "metadata": {},
   "outputs": [
    {
     "data": {
      "text/plain": [
       "array([ 5,  6,  7,  8,  9, 10], dtype=int64)"
      ]
     },
     "execution_count": 103,
     "metadata": {},
     "output_type": "execute_result"
    }
   ],
   "source": [
    "my_series.values"
   ]
  },
  {
   "cell_type": "code",
   "execution_count": 104,
   "id": "d589f565",
   "metadata": {},
   "outputs": [
    {
     "data": {
      "text/plain": [
       "a     5\n",
       "b     6\n",
       "c     7\n",
       "d     8\n",
       "e     9\n",
       "f    10\n",
       "dtype: int64"
      ]
     },
     "execution_count": 104,
     "metadata": {},
     "output_type": "execute_result"
    }
   ],
   "source": [
    "my_series2 = pd.Series([5,6,7,8,9,10],\n",
    "                     index=['a','b','c','d','e','f'])\n",
    "my_series2"
   ]
  },
  {
   "cell_type": "code",
   "execution_count": 105,
   "id": "da04e4e1",
   "metadata": {},
   "outputs": [
    {
     "data": {
      "text/plain": [
       "Index(['a', 'b', 'c', 'd', 'e', 'f'], dtype='object')"
      ]
     },
     "execution_count": 105,
     "metadata": {},
     "output_type": "execute_result"
    }
   ],
   "source": [
    "my_series2.index"
   ]
  },
  {
   "cell_type": "code",
   "execution_count": 106,
   "id": "6623d887",
   "metadata": {},
   "outputs": [
    {
     "data": {
      "text/plain": [
       "9"
      ]
     },
     "execution_count": 106,
     "metadata": {},
     "output_type": "execute_result"
    }
   ],
   "source": [
    "my_series2[4]"
   ]
  },
  {
   "cell_type": "code",
   "execution_count": 107,
   "id": "7f0d4bdb",
   "metadata": {},
   "outputs": [
    {
     "data": {
      "text/plain": [
       "e    9\n",
       "dtype: int64"
      ]
     },
     "execution_count": 107,
     "metadata": {},
     "output_type": "execute_result"
    }
   ],
   "source": [
    "my_series2[[4]]"
   ]
  },
  {
   "cell_type": "code",
   "execution_count": 108,
   "id": "9a2e4ebb",
   "metadata": {},
   "outputs": [
    {
     "data": {
      "text/plain": [
       "5"
      ]
     },
     "execution_count": 108,
     "metadata": {},
     "output_type": "execute_result"
    }
   ],
   "source": [
    "my_series2['a']"
   ]
  },
  {
   "cell_type": "code",
   "execution_count": 110,
   "id": "0affecd9",
   "metadata": {},
   "outputs": [
    {
     "data": {
      "text/plain": [
       "a    False\n",
       "b    False\n",
       "c    False\n",
       "d     True\n",
       "e     True\n",
       "f     True\n",
       "dtype: bool"
      ]
     },
     "execution_count": 110,
     "metadata": {},
     "output_type": "execute_result"
    }
   ],
   "source": [
    "mask = my_series2 > 7\n",
    "mask"
   ]
  },
  {
   "cell_type": "code",
   "execution_count": 111,
   "id": "20790e7e",
   "metadata": {},
   "outputs": [
    {
     "data": {
      "text/plain": [
       "d     8\n",
       "e     9\n",
       "f    10\n",
       "dtype: int64"
      ]
     },
     "execution_count": 111,
     "metadata": {},
     "output_type": "execute_result"
    }
   ],
   "source": [
    "my_series2[mask]"
   ]
  },
  {
   "cell_type": "code",
   "execution_count": 112,
   "id": "90106fb3",
   "metadata": {},
   "outputs": [
    {
     "data": {
      "text/plain": [
       "a    0\n",
       "b    0\n",
       "c    7\n",
       "d    8\n",
       "e    9\n",
       "f    0\n",
       "dtype: int64"
      ]
     },
     "execution_count": 112,
     "metadata": {},
     "output_type": "execute_result"
    }
   ],
   "source": [
    "my_series2[['a','b','f']] = 0\n",
    "my_series2"
   ]
  },
  {
   "cell_type": "code",
   "execution_count": 113,
   "id": "01bffae5",
   "metadata": {},
   "outputs": [
    {
     "data": {
      "text/plain": [
       "c    7\n",
       "d    8\n",
       "e    9\n",
       "dtype: int64"
      ]
     },
     "execution_count": 113,
     "metadata": {},
     "output_type": "execute_result"
    }
   ],
   "source": [
    "my_series2[(my_series2 > 0)]"
   ]
  },
  {
   "cell_type": "code",
   "execution_count": 114,
   "id": "8df8ccdf",
   "metadata": {},
   "outputs": [
    {
     "data": {
      "text/plain": [
       "a    False\n",
       "b    False\n",
       "c     True\n",
       "d     True\n",
       "e     True\n",
       "f    False\n",
       "dtype: bool"
      ]
     },
     "execution_count": 114,
     "metadata": {},
     "output_type": "execute_result"
    }
   ],
   "source": [
    "my_series2 > 0"
   ]
  },
  {
   "cell_type": "code",
   "execution_count": 115,
   "id": "d47e396d",
   "metadata": {},
   "outputs": [
    {
     "data": {
      "text/plain": [
       "a    5\n",
       "b    6\n",
       "c    7\n",
       "d    8\n",
       "dtype: int64"
      ]
     },
     "execution_count": 115,
     "metadata": {},
     "output_type": "execute_result"
    }
   ],
   "source": [
    "my_series3 = pd.Series({'a': 5, 'b': 6, 'c': 7, 'd': 8})\n",
    "my_series3"
   ]
  },
  {
   "cell_type": "code",
   "execution_count": 116,
   "id": "4ec663c3",
   "metadata": {},
   "outputs": [
    {
     "data": {
      "text/plain": [
       "letters\n",
       "a    5\n",
       "b    6\n",
       "c    7\n",
       "d    8\n",
       "Name: numbers, dtype: int64"
      ]
     },
     "execution_count": 116,
     "metadata": {},
     "output_type": "execute_result"
    }
   ],
   "source": [
    "my_series3.name = 'numbers'\n",
    "my_series3.index.name = 'letters'\n",
    "my_series3"
   ]
  },
  {
   "cell_type": "markdown",
   "id": "5f960774",
   "metadata": {},
   "source": [
    "### Pandas DataFrame"
   ]
  },
  {
   "cell_type": "markdown",
   "id": "a1bf468a",
   "metadata": {},
   "source": [
    "Объект DataFrame лучше всего представить себе в виде обычной таблицы, так как это табличная структура данных. В любой таблице всегда присутствуют строки и столбцы. Столбцами в объектах DataFrame выступают объекты Series, строки которых являяются их непосредственными элементами."
   ]
  },
  {
   "cell_type": "code",
   "execution_count": 4,
   "id": "637c0496",
   "metadata": {},
   "outputs": [
    {
     "data": {
      "text/html": [
       "<div>\n",
       "<style scoped>\n",
       "    .dataframe tbody tr th:only-of-type {\n",
       "        vertical-align: middle;\n",
       "    }\n",
       "\n",
       "    .dataframe tbody tr th {\n",
       "        vertical-align: top;\n",
       "    }\n",
       "\n",
       "    .dataframe thead th {\n",
       "        text-align: right;\n",
       "    }\n",
       "</style>\n",
       "<table border=\"1\" class=\"dataframe\">\n",
       "  <thead>\n",
       "    <tr style=\"text-align: right;\">\n",
       "      <th></th>\n",
       "      <th>city</th>\n",
       "      <th>delivery_time</th>\n",
       "      <th>couriers</th>\n",
       "    </tr>\n",
       "  </thead>\n",
       "  <tbody>\n",
       "    <tr>\n",
       "      <th>0</th>\n",
       "      <td>Moscow</td>\n",
       "      <td>25</td>\n",
       "      <td>11440</td>\n",
       "    </tr>\n",
       "    <tr>\n",
       "      <th>1</th>\n",
       "      <td>Krasnodar</td>\n",
       "      <td>29</td>\n",
       "      <td>784</td>\n",
       "    </tr>\n",
       "    <tr>\n",
       "      <th>2</th>\n",
       "      <td>Belgorod</td>\n",
       "      <td>32</td>\n",
       "      <td>112</td>\n",
       "    </tr>\n",
       "    <tr>\n",
       "      <th>3</th>\n",
       "      <td>Kazan</td>\n",
       "      <td>30</td>\n",
       "      <td>998</td>\n",
       "    </tr>\n",
       "  </tbody>\n",
       "</table>\n",
       "</div>"
      ],
      "text/plain": [
       "        city  delivery_time  couriers\n",
       "0     Moscow             25     11440\n",
       "1  Krasnodar             29       784\n",
       "2   Belgorod             32       112\n",
       "3      Kazan             30       998"
      ]
     },
     "execution_count": 4,
     "metadata": {},
     "output_type": "execute_result"
    }
   ],
   "source": [
    "df = pd.DataFrame({\n",
    "    'city': ['Moscow', 'Krasnodar', 'Belgorod', 'Kazan'],\n",
    "    'delivery_time': [25, 29, 32, 30],\n",
    "    'couriers': [11440, 784, 112, 998]\n",
    "})\n",
    "df"
   ]
  },
  {
   "cell_type": "code",
   "execution_count": 5,
   "id": "7b759f14",
   "metadata": {},
   "outputs": [
    {
     "data": {
      "text/plain": [
       "0    25\n",
       "1    29\n",
       "2    32\n",
       "3    30\n",
       "Name: delivery_time, dtype: int64"
      ]
     },
     "execution_count": 5,
     "metadata": {},
     "output_type": "execute_result"
    }
   ],
   "source": [
    "df.delivery_time"
   ]
  },
  {
   "cell_type": "code",
   "execution_count": 6,
   "id": "22dcae4c",
   "metadata": {},
   "outputs": [
    {
     "data": {
      "text/plain": [
       "pandas.core.series.Series"
      ]
     },
     "execution_count": 6,
     "metadata": {},
     "output_type": "execute_result"
    }
   ],
   "source": [
    "type(df.delivery_time)"
   ]
  },
  {
   "cell_type": "code",
   "execution_count": 8,
   "id": "6e845cb2",
   "metadata": {},
   "outputs": [
    {
     "data": {
      "text/html": [
       "<div>\n",
       "<style scoped>\n",
       "    .dataframe tbody tr th:only-of-type {\n",
       "        vertical-align: middle;\n",
       "    }\n",
       "\n",
       "    .dataframe tbody tr th {\n",
       "        vertical-align: top;\n",
       "    }\n",
       "\n",
       "    .dataframe thead th {\n",
       "        text-align: right;\n",
       "    }\n",
       "</style>\n",
       "<table border=\"1\" class=\"dataframe\">\n",
       "  <thead>\n",
       "    <tr style=\"text-align: right;\">\n",
       "      <th></th>\n",
       "      <th>delivery_time</th>\n",
       "    </tr>\n",
       "  </thead>\n",
       "  <tbody>\n",
       "    <tr>\n",
       "      <th>0</th>\n",
       "      <td>25</td>\n",
       "    </tr>\n",
       "    <tr>\n",
       "      <th>1</th>\n",
       "      <td>29</td>\n",
       "    </tr>\n",
       "    <tr>\n",
       "      <th>2</th>\n",
       "      <td>32</td>\n",
       "    </tr>\n",
       "    <tr>\n",
       "      <th>3</th>\n",
       "      <td>30</td>\n",
       "    </tr>\n",
       "  </tbody>\n",
       "</table>\n",
       "</div>"
      ],
      "text/plain": [
       "   delivery_time\n",
       "0             25\n",
       "1             29\n",
       "2             32\n",
       "3             30"
      ]
     },
     "execution_count": 8,
     "metadata": {},
     "output_type": "execute_result"
    }
   ],
   "source": [
    "df[['delivery_time']]"
   ]
  },
  {
   "cell_type": "code",
   "execution_count": 9,
   "id": "5d0e2111",
   "metadata": {},
   "outputs": [
    {
     "data": {
      "text/html": [
       "<div>\n",
       "<style scoped>\n",
       "    .dataframe tbody tr th:only-of-type {\n",
       "        vertical-align: middle;\n",
       "    }\n",
       "\n",
       "    .dataframe tbody tr th {\n",
       "        vertical-align: top;\n",
       "    }\n",
       "\n",
       "    .dataframe thead th {\n",
       "        text-align: right;\n",
       "    }\n",
       "</style>\n",
       "<table border=\"1\" class=\"dataframe\">\n",
       "  <thead>\n",
       "    <tr style=\"text-align: right;\">\n",
       "      <th></th>\n",
       "      <th>city</th>\n",
       "      <th>delivery_time</th>\n",
       "      <th>couriers</th>\n",
       "    </tr>\n",
       "  </thead>\n",
       "  <tbody>\n",
       "    <tr>\n",
       "      <th>Msc</th>\n",
       "      <td>Moscow</td>\n",
       "      <td>25</td>\n",
       "      <td>11440</td>\n",
       "    </tr>\n",
       "    <tr>\n",
       "      <th>Krd</th>\n",
       "      <td>Krasnodar</td>\n",
       "      <td>29</td>\n",
       "      <td>784</td>\n",
       "    </tr>\n",
       "    <tr>\n",
       "      <th>Blg</th>\n",
       "      <td>Belgorod</td>\n",
       "      <td>32</td>\n",
       "      <td>112</td>\n",
       "    </tr>\n",
       "    <tr>\n",
       "      <th>Kzn</th>\n",
       "      <td>Kazan</td>\n",
       "      <td>30</td>\n",
       "      <td>998</td>\n",
       "    </tr>\n",
       "  </tbody>\n",
       "</table>\n",
       "</div>"
      ],
      "text/plain": [
       "          city  delivery_time  couriers\n",
       "Msc     Moscow             25     11440\n",
       "Krd  Krasnodar             29       784\n",
       "Blg   Belgorod             32       112\n",
       "Kzn      Kazan             30       998"
      ]
     },
     "execution_count": 9,
     "metadata": {},
     "output_type": "execute_result"
    }
   ],
   "source": [
    "df.index = ['Msc', 'Krd', 'Blg', 'Kzn']\n",
    "df"
   ]
  },
  {
   "cell_type": "markdown",
   "id": "89104874",
   "metadata": {},
   "source": [
    "### Импорт данных"
   ]
  },
  {
   "cell_type": "code",
   "execution_count": null,
   "id": "503e20a2",
   "metadata": {},
   "outputs": [],
   "source": [
    "# pd.read_csv('filename')\n",
    "# pd.read_exel('filename')\n",
    "# pd.read_sql(query, connection_object)\n",
    "# pd.read_table(filename)\n",
    "# pd.read_json(json_string)\n",
    "# pd.read_html(url)\n",
    "# pd.read_clipboard()\n",
    "# pd.DataFrame(dict)"
   ]
  },
  {
   "cell_type": "code",
   "execution_count": 11,
   "id": "856ca3c1",
   "metadata": {
    "scrolled": true
   },
   "outputs": [
    {
     "data": {
      "text/html": [
       "<div>\n",
       "<style scoped>\n",
       "    .dataframe tbody tr th:only-of-type {\n",
       "        vertical-align: middle;\n",
       "    }\n",
       "\n",
       "    .dataframe tbody tr th {\n",
       "        vertical-align: top;\n",
       "    }\n",
       "\n",
       "    .dataframe thead th {\n",
       "        text-align: right;\n",
       "    }\n",
       "</style>\n",
       "<table border=\"1\" class=\"dataframe\">\n",
       "  <thead>\n",
       "    <tr style=\"text-align: right;\">\n",
       "      <th></th>\n",
       "      <th>ytem_category</th>\n",
       "      <th>product_brand</th>\n",
       "      <th>selling_price</th>\n",
       "    </tr>\n",
       "  </thead>\n",
       "  <tbody>\n",
       "    <tr>\n",
       "      <th>0</th>\n",
       "      <td>jewellery</td>\n",
       "      <td>B-2307</td>\n",
       "      <td>181676.0</td>\n",
       "    </tr>\n",
       "    <tr>\n",
       "      <th>1</th>\n",
       "      <td>jewellery</td>\n",
       "      <td>B-1517</td>\n",
       "      <td>139164.0</td>\n",
       "    </tr>\n",
       "  </tbody>\n",
       "</table>\n",
       "</div>"
      ],
      "text/plain": [
       "  ytem_category product_brand  selling_price\n",
       "0     jewellery        B-2307       181676.0\n",
       "1     jewellery        B-1517       139164.0"
      ]
     },
     "execution_count": 11,
     "metadata": {},
     "output_type": "execute_result"
    }
   ],
   "source": [
    "ml = pd.read_csv('money_by_brands.csv')\n",
    "ml.head(2)"
   ]
  },
  {
   "cell_type": "markdown",
   "id": "f6b6c95b",
   "metadata": {},
   "source": [
    "### Если DataFrame не помещается в оперативную память компьютера, его размер очень большой."
   ]
  },
  {
   "cell_type": "code",
   "execution_count": null,
   "id": "7f1d0901",
   "metadata": {},
   "outputs": [],
   "source": [
    "# метод чтение по Чанкам\n",
    "\n",
    "c_size = 10000\n",
    "\n",
    "for gm_chunk in pd.read_csv('filename',\n",
    "                           sep = ',',\n",
    "                           chunksize=c_size):\n",
    "    print(gm_chunk.shape)"
   ]
  },
  {
   "cell_type": "markdown",
   "id": "61189727",
   "metadata": {},
   "source": [
    "### Экспорт данных"
   ]
  },
  {
   "cell_type": "code",
   "execution_count": null,
   "id": "bb36f94c",
   "metadata": {},
   "outputs": [],
   "source": [
    "# df.to_csv(filename)\n",
    "# df.to_exel(filename)\n",
    "# df.to_sql(table_name, connection_object)\n",
    "# df.to_json(filename)\n",
    "# df.to_html(filename)\n",
    "# df.to_clipboard()"
   ]
  },
  {
   "cell_type": "markdown",
   "id": "3b43d737",
   "metadata": {},
   "source": [
    "### Доступ к данным"
   ]
  },
  {
   "cell_type": "markdown",
   "id": "5c041d2f",
   "metadata": {},
   "source": [
    "Доступ к строкам по индексу возможен несколькими спопобами:\n",
    "\n",
    "1.  .loc - используется для доступа по строковаой метке\n",
    "2.  .iloc - используется для доступа по числовому значению (начиная с 0)"
   ]
  },
  {
   "cell_type": "code",
   "execution_count": 13,
   "id": "f1c20f06",
   "metadata": {},
   "outputs": [
    {
     "data": {
      "text/plain": [
       "city             Moscow\n",
       "delivery_time        25\n",
       "couriers          11440\n",
       "Name: Msc, dtype: object"
      ]
     },
     "execution_count": 13,
     "metadata": {},
     "output_type": "execute_result"
    }
   ],
   "source": [
    "df.loc['Msc']"
   ]
  },
  {
   "cell_type": "code",
   "execution_count": 14,
   "id": "cc333b4c",
   "metadata": {},
   "outputs": [
    {
     "data": {
      "text/html": [
       "<div>\n",
       "<style scoped>\n",
       "    .dataframe tbody tr th:only-of-type {\n",
       "        vertical-align: middle;\n",
       "    }\n",
       "\n",
       "    .dataframe tbody tr th {\n",
       "        vertical-align: top;\n",
       "    }\n",
       "\n",
       "    .dataframe thead th {\n",
       "        text-align: right;\n",
       "    }\n",
       "</style>\n",
       "<table border=\"1\" class=\"dataframe\">\n",
       "  <thead>\n",
       "    <tr style=\"text-align: right;\">\n",
       "      <th></th>\n",
       "      <th>city</th>\n",
       "      <th>delivery_time</th>\n",
       "      <th>couriers</th>\n",
       "    </tr>\n",
       "  </thead>\n",
       "  <tbody>\n",
       "    <tr>\n",
       "      <th>Msc</th>\n",
       "      <td>Moscow</td>\n",
       "      <td>25</td>\n",
       "      <td>11440</td>\n",
       "    </tr>\n",
       "    <tr>\n",
       "      <th>Krd</th>\n",
       "      <td>Krasnodar</td>\n",
       "      <td>29</td>\n",
       "      <td>784</td>\n",
       "    </tr>\n",
       "    <tr>\n",
       "      <th>Blg</th>\n",
       "      <td>Belgorod</td>\n",
       "      <td>32</td>\n",
       "      <td>112</td>\n",
       "    </tr>\n",
       "    <tr>\n",
       "      <th>Kzn</th>\n",
       "      <td>Kazan</td>\n",
       "      <td>30</td>\n",
       "      <td>998</td>\n",
       "    </tr>\n",
       "  </tbody>\n",
       "</table>\n",
       "</div>"
      ],
      "text/plain": [
       "          city  delivery_time  couriers\n",
       "Msc     Moscow             25     11440\n",
       "Krd  Krasnodar             29       784\n",
       "Blg   Belgorod             32       112\n",
       "Kzn      Kazan             30       998"
      ]
     },
     "execution_count": 14,
     "metadata": {},
     "output_type": "execute_result"
    }
   ],
   "source": [
    "df"
   ]
  },
  {
   "cell_type": "code",
   "execution_count": 15,
   "id": "8a791a9c",
   "metadata": {},
   "outputs": [
    {
     "data": {
      "text/plain": [
       "city             Krasnodar\n",
       "delivery_time           29\n",
       "couriers               784\n",
       "Name: Krd, dtype: object"
      ]
     },
     "execution_count": 15,
     "metadata": {},
     "output_type": "execute_result"
    }
   ],
   "source": [
    "df.iloc[1]"
   ]
  },
  {
   "cell_type": "code",
   "execution_count": 16,
   "id": "822fac86",
   "metadata": {},
   "outputs": [
    {
     "data": {
      "text/plain": [
       "pandas.core.series.Series"
      ]
     },
     "execution_count": 16,
     "metadata": {},
     "output_type": "execute_result"
    }
   ],
   "source": [
    "type(df.iloc[0])"
   ]
  },
  {
   "cell_type": "code",
   "execution_count": 17,
   "id": "b925cbc4",
   "metadata": {},
   "outputs": [
    {
     "data": {
      "text/plain": [
       "Msc    11440\n",
       "Kzn      998\n",
       "Name: couriers, dtype: int64"
      ]
     },
     "execution_count": 17,
     "metadata": {},
     "output_type": "execute_result"
    }
   ],
   "source": [
    "# обращение к индексу и колонке одновременно\n",
    "\n",
    "df.loc[['Msc', 'Kzn'], 'couriers']"
   ]
  },
  {
   "cell_type": "markdown",
   "id": "df60c34b",
   "metadata": {},
   "source": [
    "В .loc и .iloc запомнить, что первая часть относится к строкам, вторая - к столбцам"
   ]
  },
  {
   "cell_type": "code",
   "execution_count": 18,
   "id": "7f25e85e",
   "metadata": {},
   "outputs": [
    {
     "data": {
      "text/html": [
       "<div>\n",
       "<style scoped>\n",
       "    .dataframe tbody tr th:only-of-type {\n",
       "        vertical-align: middle;\n",
       "    }\n",
       "\n",
       "    .dataframe tbody tr th {\n",
       "        vertical-align: top;\n",
       "    }\n",
       "\n",
       "    .dataframe thead th {\n",
       "        text-align: right;\n",
       "    }\n",
       "</style>\n",
       "<table border=\"1\" class=\"dataframe\">\n",
       "  <thead>\n",
       "    <tr style=\"text-align: right;\">\n",
       "      <th></th>\n",
       "      <th>city</th>\n",
       "      <th>delivery_time</th>\n",
       "      <th>couriers</th>\n",
       "    </tr>\n",
       "  </thead>\n",
       "  <tbody>\n",
       "    <tr>\n",
       "      <th>Msc</th>\n",
       "      <td>Moscow</td>\n",
       "      <td>25</td>\n",
       "      <td>11440</td>\n",
       "    </tr>\n",
       "    <tr>\n",
       "      <th>Krd</th>\n",
       "      <td>Krasnodar</td>\n",
       "      <td>29</td>\n",
       "      <td>784</td>\n",
       "    </tr>\n",
       "    <tr>\n",
       "      <th>Blg</th>\n",
       "      <td>Belgorod</td>\n",
       "      <td>32</td>\n",
       "      <td>112</td>\n",
       "    </tr>\n",
       "    <tr>\n",
       "      <th>Kzn</th>\n",
       "      <td>Kazan</td>\n",
       "      <td>30</td>\n",
       "      <td>998</td>\n",
       "    </tr>\n",
       "  </tbody>\n",
       "</table>\n",
       "</div>"
      ],
      "text/plain": [
       "          city  delivery_time  couriers\n",
       "Msc     Moscow             25     11440\n",
       "Krd  Krasnodar             29       784\n",
       "Blg   Belgorod             32       112\n",
       "Kzn      Kazan             30       998"
      ]
     },
     "execution_count": 18,
     "metadata": {},
     "output_type": "execute_result"
    }
   ],
   "source": [
    "df"
   ]
  },
  {
   "cell_type": "code",
   "execution_count": 20,
   "id": "c2b780c3",
   "metadata": {},
   "outputs": [
    {
     "data": {
      "text/html": [
       "<div>\n",
       "<style scoped>\n",
       "    .dataframe tbody tr th:only-of-type {\n",
       "        vertical-align: middle;\n",
       "    }\n",
       "\n",
       "    .dataframe tbody tr th {\n",
       "        vertical-align: top;\n",
       "    }\n",
       "\n",
       "    .dataframe thead th {\n",
       "        text-align: right;\n",
       "    }\n",
       "</style>\n",
       "<table border=\"1\" class=\"dataframe\">\n",
       "  <thead>\n",
       "    <tr style=\"text-align: right;\">\n",
       "      <th></th>\n",
       "      <th>delivery_time</th>\n",
       "    </tr>\n",
       "  </thead>\n",
       "  <tbody>\n",
       "    <tr>\n",
       "      <th>Msc</th>\n",
       "      <td>25</td>\n",
       "    </tr>\n",
       "    <tr>\n",
       "      <th>Krd</th>\n",
       "      <td>29</td>\n",
       "    </tr>\n",
       "  </tbody>\n",
       "</table>\n",
       "</div>"
      ],
      "text/plain": [
       "     delivery_time\n",
       "Msc             25\n",
       "Krd             29"
      ]
     },
     "execution_count": 20,
     "metadata": {},
     "output_type": "execute_result"
    }
   ],
   "source": [
    "df.iloc[[0,1] , [1]]"
   ]
  },
  {
   "cell_type": "code",
   "execution_count": 21,
   "id": "a9075bbc",
   "metadata": {},
   "outputs": [
    {
     "data": {
      "text/html": [
       "<div>\n",
       "<style scoped>\n",
       "    .dataframe tbody tr th:only-of-type {\n",
       "        vertical-align: middle;\n",
       "    }\n",
       "\n",
       "    .dataframe tbody tr th {\n",
       "        vertical-align: top;\n",
       "    }\n",
       "\n",
       "    .dataframe thead th {\n",
       "        text-align: right;\n",
       "    }\n",
       "</style>\n",
       "<table border=\"1\" class=\"dataframe\">\n",
       "  <thead>\n",
       "    <tr style=\"text-align: right;\">\n",
       "      <th></th>\n",
       "      <th>city</th>\n",
       "      <th>couriers</th>\n",
       "    </tr>\n",
       "  </thead>\n",
       "  <tbody>\n",
       "    <tr>\n",
       "      <th>Blg</th>\n",
       "      <td>Belgorod</td>\n",
       "      <td>112</td>\n",
       "    </tr>\n",
       "  </tbody>\n",
       "</table>\n",
       "</div>"
      ],
      "text/plain": [
       "         city  couriers\n",
       "Blg  Belgorod       112"
      ]
     },
     "execution_count": 21,
     "metadata": {},
     "output_type": "execute_result"
    }
   ],
   "source": [
    "# отбор по маске\n",
    "\n",
    "df[df.delivery_time > 30][['city', 'couriers']]"
   ]
  },
  {
   "cell_type": "code",
   "execution_count": 24,
   "id": "d33eb0b1",
   "metadata": {},
   "outputs": [
    {
     "data": {
      "text/html": [
       "<div>\n",
       "<style scoped>\n",
       "    .dataframe tbody tr th:only-of-type {\n",
       "        vertical-align: middle;\n",
       "    }\n",
       "\n",
       "    .dataframe tbody tr th {\n",
       "        vertical-align: top;\n",
       "    }\n",
       "\n",
       "    .dataframe thead th {\n",
       "        text-align: right;\n",
       "    }\n",
       "</style>\n",
       "<table border=\"1\" class=\"dataframe\">\n",
       "  <thead>\n",
       "    <tr style=\"text-align: right;\">\n",
       "      <th></th>\n",
       "      <th>city</th>\n",
       "      <th>delivery_time</th>\n",
       "    </tr>\n",
       "  </thead>\n",
       "  <tbody>\n",
       "    <tr>\n",
       "      <th>Msc</th>\n",
       "      <td>Moscow</td>\n",
       "      <td>25</td>\n",
       "    </tr>\n",
       "    <tr>\n",
       "      <th>Krd</th>\n",
       "      <td>Krasnodar</td>\n",
       "      <td>29</td>\n",
       "    </tr>\n",
       "    <tr>\n",
       "      <th>Blg</th>\n",
       "      <td>Belgorod</td>\n",
       "      <td>32</td>\n",
       "    </tr>\n",
       "    <tr>\n",
       "      <th>Kzn</th>\n",
       "      <td>Kazan</td>\n",
       "      <td>30</td>\n",
       "    </tr>\n",
       "  </tbody>\n",
       "</table>\n",
       "</div>"
      ],
      "text/plain": [
       "          city  delivery_time\n",
       "Msc     Moscow             25\n",
       "Krd  Krasnodar             29\n",
       "Blg   Belgorod             32\n",
       "Kzn      Kazan             30"
      ]
     },
     "execution_count": 24,
     "metadata": {},
     "output_type": "execute_result"
    }
   ],
   "source": [
    "# более сложный отбор по маске с условием\n",
    "# > 25 или Москва\n",
    "\n",
    "df[(df.delivery_time >= 25) | (df.city == 'Msc')][['city', 'delivery_time']]"
   ]
  },
  {
   "cell_type": "code",
   "execution_count": 26,
   "id": "7c7fb270",
   "metadata": {},
   "outputs": [
    {
     "data": {
      "text/html": [
       "<div>\n",
       "<style scoped>\n",
       "    .dataframe tbody tr th:only-of-type {\n",
       "        vertical-align: middle;\n",
       "    }\n",
       "\n",
       "    .dataframe tbody tr th {\n",
       "        vertical-align: top;\n",
       "    }\n",
       "\n",
       "    .dataframe thead th {\n",
       "        text-align: right;\n",
       "    }\n",
       "</style>\n",
       "<table border=\"1\" class=\"dataframe\">\n",
       "  <thead>\n",
       "    <tr style=\"text-align: right;\">\n",
       "      <th></th>\n",
       "      <th>city</th>\n",
       "      <th>delivery_time</th>\n",
       "      <th>couriers</th>\n",
       "    </tr>\n",
       "  </thead>\n",
       "  <tbody>\n",
       "    <tr>\n",
       "      <th>Msc</th>\n",
       "      <td>Moscow</td>\n",
       "      <td>25</td>\n",
       "      <td>11440</td>\n",
       "    </tr>\n",
       "  </tbody>\n",
       "</table>\n",
       "</div>"
      ],
      "text/plain": [
       "       city  delivery_time  couriers\n",
       "Msc  Moscow             25     11440"
      ]
     },
     "execution_count": 26,
     "metadata": {},
     "output_type": "execute_result"
    }
   ],
   "source": [
    "# или маска в виде фильтра\n",
    "\n",
    "filters = (df.city == 'Moscow')\n",
    "df[filters]"
   ]
  },
  {
   "cell_type": "code",
   "execution_count": 40,
   "id": "99a14905",
   "metadata": {},
   "outputs": [
    {
     "data": {
      "text/html": [
       "<div>\n",
       "<style scoped>\n",
       "    .dataframe tbody tr th:only-of-type {\n",
       "        vertical-align: middle;\n",
       "    }\n",
       "\n",
       "    .dataframe tbody tr th {\n",
       "        vertical-align: top;\n",
       "    }\n",
       "\n",
       "    .dataframe thead th {\n",
       "        text-align: right;\n",
       "    }\n",
       "</style>\n",
       "<table border=\"1\" class=\"dataframe\">\n",
       "  <thead>\n",
       "    <tr style=\"text-align: right;\">\n",
       "      <th></th>\n",
       "      <th>city</th>\n",
       "      <th>delivery_time</th>\n",
       "      <th>couriers</th>\n",
       "      <th>delivery_time_hours</th>\n",
       "    </tr>\n",
       "  </thead>\n",
       "  <tbody>\n",
       "    <tr>\n",
       "      <th>Msc</th>\n",
       "      <td>Moscow</td>\n",
       "      <td>25</td>\n",
       "      <td>11440</td>\n",
       "      <td>0.416667</td>\n",
       "    </tr>\n",
       "    <tr>\n",
       "      <th>Krd</th>\n",
       "      <td>Krasnodar</td>\n",
       "      <td>29</td>\n",
       "      <td>784</td>\n",
       "      <td>0.483333</td>\n",
       "    </tr>\n",
       "    <tr>\n",
       "      <th>Blg</th>\n",
       "      <td>Belgorod</td>\n",
       "      <td>32</td>\n",
       "      <td>112</td>\n",
       "      <td>0.533333</td>\n",
       "    </tr>\n",
       "    <tr>\n",
       "      <th>Kzn</th>\n",
       "      <td>Kazan</td>\n",
       "      <td>30</td>\n",
       "      <td>998</td>\n",
       "      <td>0.500000</td>\n",
       "    </tr>\n",
       "  </tbody>\n",
       "</table>\n",
       "</div>"
      ],
      "text/plain": [
       "          city  delivery_time  couriers  delivery_time_hours\n",
       "Msc     Moscow             25     11440             0.416667\n",
       "Krd  Krasnodar             29       784             0.483333\n",
       "Blg   Belgorod             32       112             0.533333\n",
       "Kzn      Kazan             30       998             0.500000"
      ]
     },
     "execution_count": 40,
     "metadata": {},
     "output_type": "execute_result"
    }
   ],
   "source": [
    "# создание новой колонки \n",
    "\n",
    "df['delivery_time_hours'] = df['delivery_time'] / 60\n",
    "df"
   ]
  },
  {
   "cell_type": "code",
   "execution_count": 41,
   "id": "e9023da2",
   "metadata": {},
   "outputs": [],
   "source": [
    "# При дропе колонок необходимо в том или ином виде перезаписывать данные в исходном датафрейме\n",
    "\n",
    "df.drop(['delivery_time_hours'], axis = 1, inplace=True)\n",
    "# df.drop(['delivery_time_hours'], axis = 'columns', inplace=True)"
   ]
  },
  {
   "cell_type": "code",
   "execution_count": 42,
   "id": "0660cd3c",
   "metadata": {},
   "outputs": [
    {
     "data": {
      "text/html": [
       "<div>\n",
       "<style scoped>\n",
       "    .dataframe tbody tr th:only-of-type {\n",
       "        vertical-align: middle;\n",
       "    }\n",
       "\n",
       "    .dataframe tbody tr th {\n",
       "        vertical-align: top;\n",
       "    }\n",
       "\n",
       "    .dataframe thead th {\n",
       "        text-align: right;\n",
       "    }\n",
       "</style>\n",
       "<table border=\"1\" class=\"dataframe\">\n",
       "  <thead>\n",
       "    <tr style=\"text-align: right;\">\n",
       "      <th></th>\n",
       "      <th>city</th>\n",
       "      <th>delivery_time</th>\n",
       "      <th>couriers</th>\n",
       "    </tr>\n",
       "  </thead>\n",
       "  <tbody>\n",
       "    <tr>\n",
       "      <th>Msc</th>\n",
       "      <td>Moscow</td>\n",
       "      <td>25</td>\n",
       "      <td>11440</td>\n",
       "    </tr>\n",
       "    <tr>\n",
       "      <th>Krd</th>\n",
       "      <td>Krasnodar</td>\n",
       "      <td>29</td>\n",
       "      <td>784</td>\n",
       "    </tr>\n",
       "    <tr>\n",
       "      <th>Blg</th>\n",
       "      <td>Belgorod</td>\n",
       "      <td>32</td>\n",
       "      <td>112</td>\n",
       "    </tr>\n",
       "    <tr>\n",
       "      <th>Kzn</th>\n",
       "      <td>Kazan</td>\n",
       "      <td>30</td>\n",
       "      <td>998</td>\n",
       "    </tr>\n",
       "  </tbody>\n",
       "</table>\n",
       "</div>"
      ],
      "text/plain": [
       "          city  delivery_time  couriers\n",
       "Msc     Moscow             25     11440\n",
       "Krd  Krasnodar             29       784\n",
       "Blg   Belgorod             32       112\n",
       "Kzn      Kazan             30       998"
      ]
     },
     "execution_count": 42,
     "metadata": {},
     "output_type": "execute_result"
    }
   ],
   "source": [
    "df"
   ]
  },
  {
   "cell_type": "code",
   "execution_count": 43,
   "id": "7f362937",
   "metadata": {},
   "outputs": [
    {
     "data": {
      "text/html": [
       "<div>\n",
       "<style scoped>\n",
       "    .dataframe tbody tr th:only-of-type {\n",
       "        vertical-align: middle;\n",
       "    }\n",
       "\n",
       "    .dataframe tbody tr th {\n",
       "        vertical-align: top;\n",
       "    }\n",
       "\n",
       "    .dataframe thead th {\n",
       "        text-align: right;\n",
       "    }\n",
       "</style>\n",
       "<table border=\"1\" class=\"dataframe\">\n",
       "  <thead>\n",
       "    <tr style=\"text-align: right;\">\n",
       "      <th></th>\n",
       "      <th>city</th>\n",
       "      <th>delivery_time</th>\n",
       "      <th>num_of_couriers</th>\n",
       "    </tr>\n",
       "  </thead>\n",
       "  <tbody>\n",
       "    <tr>\n",
       "      <th>Msc</th>\n",
       "      <td>Moscow</td>\n",
       "      <td>25</td>\n",
       "      <td>11440</td>\n",
       "    </tr>\n",
       "    <tr>\n",
       "      <th>Krd</th>\n",
       "      <td>Krasnodar</td>\n",
       "      <td>29</td>\n",
       "      <td>784</td>\n",
       "    </tr>\n",
       "    <tr>\n",
       "      <th>Blg</th>\n",
       "      <td>Belgorod</td>\n",
       "      <td>32</td>\n",
       "      <td>112</td>\n",
       "    </tr>\n",
       "    <tr>\n",
       "      <th>Kzn</th>\n",
       "      <td>Kazan</td>\n",
       "      <td>30</td>\n",
       "      <td>998</td>\n",
       "    </tr>\n",
       "  </tbody>\n",
       "</table>\n",
       "</div>"
      ],
      "text/plain": [
       "          city  delivery_time  num_of_couriers\n",
       "Msc     Moscow             25            11440\n",
       "Krd  Krasnodar             29              784\n",
       "Blg   Belgorod             32              112\n",
       "Kzn      Kazan             30              998"
      ]
     },
     "execution_count": 43,
     "metadata": {},
     "output_type": "execute_result"
    }
   ],
   "source": [
    "df = df.rename(columns={'couriers': 'num_of_couriers'})\n",
    "df"
   ]
  },
  {
   "cell_type": "code",
   "execution_count": 44,
   "id": "ab40f289",
   "metadata": {},
   "outputs": [
    {
     "data": {
      "text/html": [
       "<div>\n",
       "<style scoped>\n",
       "    .dataframe tbody tr th:only-of-type {\n",
       "        vertical-align: middle;\n",
       "    }\n",
       "\n",
       "    .dataframe tbody tr th {\n",
       "        vertical-align: top;\n",
       "    }\n",
       "\n",
       "    .dataframe thead th {\n",
       "        text-align: right;\n",
       "    }\n",
       "</style>\n",
       "<table border=\"1\" class=\"dataframe\">\n",
       "  <thead>\n",
       "    <tr style=\"text-align: right;\">\n",
       "      <th></th>\n",
       "      <th>city</th>\n",
       "      <th>delivery_time</th>\n",
       "      <th>num_of_couriers</th>\n",
       "    </tr>\n",
       "  </thead>\n",
       "  <tbody>\n",
       "    <tr>\n",
       "      <th>Blg</th>\n",
       "      <td>Belgorod</td>\n",
       "      <td>32</td>\n",
       "      <td>112</td>\n",
       "    </tr>\n",
       "    <tr>\n",
       "      <th>Kzn</th>\n",
       "      <td>Kazan</td>\n",
       "      <td>30</td>\n",
       "      <td>998</td>\n",
       "    </tr>\n",
       "    <tr>\n",
       "      <th>Krd</th>\n",
       "      <td>Krasnodar</td>\n",
       "      <td>29</td>\n",
       "      <td>784</td>\n",
       "    </tr>\n",
       "  </tbody>\n",
       "</table>\n",
       "</div>"
      ],
      "text/plain": [
       "          city  delivery_time  num_of_couriers\n",
       "Blg   Belgorod             32              112\n",
       "Kzn      Kazan             30              998\n",
       "Krd  Krasnodar             29              784"
      ]
     },
     "execution_count": 44,
     "metadata": {},
     "output_type": "execute_result"
    }
   ],
   "source": [
    "# вытаскиваем n - самых больших показателей из колонки - нет нужды в сортировке\n",
    "\n",
    "df.nlargest(3, 'delivery_time')"
   ]
  },
  {
   "cell_type": "code",
   "execution_count": 46,
   "id": "beb93d26",
   "metadata": {},
   "outputs": [
    {
     "data": {
      "text/html": [
       "<div>\n",
       "<style scoped>\n",
       "    .dataframe tbody tr th:only-of-type {\n",
       "        vertical-align: middle;\n",
       "    }\n",
       "\n",
       "    .dataframe tbody tr th {\n",
       "        vertical-align: top;\n",
       "    }\n",
       "\n",
       "    .dataframe thead th {\n",
       "        text-align: right;\n",
       "    }\n",
       "</style>\n",
       "<table border=\"1\" class=\"dataframe\">\n",
       "  <thead>\n",
       "    <tr style=\"text-align: right;\">\n",
       "      <th></th>\n",
       "      <th>city</th>\n",
       "      <th>delivery_time</th>\n",
       "      <th>num_of_couriers</th>\n",
       "    </tr>\n",
       "  </thead>\n",
       "  <tbody>\n",
       "    <tr>\n",
       "      <th>Msc</th>\n",
       "      <td>Moscow</td>\n",
       "      <td>25</td>\n",
       "      <td>11440</td>\n",
       "    </tr>\n",
       "    <tr>\n",
       "      <th>Krd</th>\n",
       "      <td>Krasnodar</td>\n",
       "      <td>29</td>\n",
       "      <td>784</td>\n",
       "    </tr>\n",
       "    <tr>\n",
       "      <th>Kzn</th>\n",
       "      <td>Kazan</td>\n",
       "      <td>30</td>\n",
       "      <td>998</td>\n",
       "    </tr>\n",
       "  </tbody>\n",
       "</table>\n",
       "</div>"
      ],
      "text/plain": [
       "          city  delivery_time  num_of_couriers\n",
       "Msc     Moscow             25            11440\n",
       "Krd  Krasnodar             29              784\n",
       "Kzn      Kazan             30              998"
      ]
     },
     "execution_count": 46,
     "metadata": {},
     "output_type": "execute_result"
    }
   ],
   "source": [
    "# вытаскиваем n - самых больших маленьких из колонки - нет нужды в сортировке\n",
    "\n",
    "df.nsmallest(3, 'delivery_time')"
   ]
  },
  {
   "cell_type": "code",
   "execution_count": 47,
   "id": "9fd1331c",
   "metadata": {},
   "outputs": [],
   "source": [
    "df.columns = ['City', 'Delivery_Time', 'Num_of_Couriers']"
   ]
  },
  {
   "cell_type": "code",
   "execution_count": 48,
   "id": "da6a00da",
   "metadata": {},
   "outputs": [
    {
     "data": {
      "text/html": [
       "<div>\n",
       "<style scoped>\n",
       "    .dataframe tbody tr th:only-of-type {\n",
       "        vertical-align: middle;\n",
       "    }\n",
       "\n",
       "    .dataframe tbody tr th {\n",
       "        vertical-align: top;\n",
       "    }\n",
       "\n",
       "    .dataframe thead th {\n",
       "        text-align: right;\n",
       "    }\n",
       "</style>\n",
       "<table border=\"1\" class=\"dataframe\">\n",
       "  <thead>\n",
       "    <tr style=\"text-align: right;\">\n",
       "      <th></th>\n",
       "      <th>City</th>\n",
       "      <th>Delivery_Time</th>\n",
       "      <th>Num_of_Couriers</th>\n",
       "    </tr>\n",
       "  </thead>\n",
       "  <tbody>\n",
       "    <tr>\n",
       "      <th>Msc</th>\n",
       "      <td>Moscow</td>\n",
       "      <td>25</td>\n",
       "      <td>11440</td>\n",
       "    </tr>\n",
       "    <tr>\n",
       "      <th>Krd</th>\n",
       "      <td>Krasnodar</td>\n",
       "      <td>29</td>\n",
       "      <td>784</td>\n",
       "    </tr>\n",
       "    <tr>\n",
       "      <th>Blg</th>\n",
       "      <td>Belgorod</td>\n",
       "      <td>32</td>\n",
       "      <td>112</td>\n",
       "    </tr>\n",
       "    <tr>\n",
       "      <th>Kzn</th>\n",
       "      <td>Kazan</td>\n",
       "      <td>30</td>\n",
       "      <td>998</td>\n",
       "    </tr>\n",
       "  </tbody>\n",
       "</table>\n",
       "</div>"
      ],
      "text/plain": [
       "          City  Delivery_Time  Num_of_Couriers\n",
       "Msc     Moscow             25            11440\n",
       "Krd  Krasnodar             29              784\n",
       "Blg   Belgorod             32              112\n",
       "Kzn      Kazan             30              998"
      ]
     },
     "execution_count": 48,
     "metadata": {},
     "output_type": "execute_result"
    }
   ],
   "source": [
    "df"
   ]
  },
  {
   "cell_type": "markdown",
   "id": "0e223061",
   "metadata": {},
   "source": [
    "### Задание"
   ]
  },
  {
   "cell_type": "markdown",
   "id": "504f84d5",
   "metadata": {},
   "source": [
    "Файл содержит таблицу, которая состоит из следующих колонок:\n",
    "- date (дата);\n",
    "-\n",
    "vendor_id (уникальный идентификатор ресторана);\n",
    "- chain_id (уникальный идентификатор сети, в которую входит\n",
    "ресторан);\n",
    "-\n",
    "city_id (идентификатор города); - spec (специализация ресторана);\n",
    "-\n",
    "successful_orders (количество успешных заказов);\n",
    "-\n",
    "fail_orders (количество неуспешных заказов).\n",
    "Ответьте на следующие вопросы на основе информации,\n",
    "содержащейся в этой таблице.\n",
    "1. Сколько уникальных городов представлено в этом датафрейме?\n",
    "2. Сколько ресторанов в таблице специализируются на рыбе?\n",
    "3. Сколько колонок в датафрейме имеют тип данных float64?\n",
    "4. Сколько дней у ресторана с идентификатором 40065 было менее 20\n",
    "успешных заказов?\n",
    "Ответ введите целыми числами через запятую."
   ]
  },
  {
   "cell_type": "code",
   "execution_count": 49,
   "id": "159914a2",
   "metadata": {},
   "outputs": [],
   "source": [
    "data = pd.read_csv('orders.csv')"
   ]
  },
  {
   "cell_type": "code",
   "execution_count": 51,
   "id": "b2c249f2",
   "metadata": {},
   "outputs": [
    {
     "data": {
      "text/html": [
       "<div>\n",
       "<style scoped>\n",
       "    .dataframe tbody tr th:only-of-type {\n",
       "        vertical-align: middle;\n",
       "    }\n",
       "\n",
       "    .dataframe tbody tr th {\n",
       "        vertical-align: top;\n",
       "    }\n",
       "\n",
       "    .dataframe thead th {\n",
       "        text-align: right;\n",
       "    }\n",
       "</style>\n",
       "<table border=\"1\" class=\"dataframe\">\n",
       "  <thead>\n",
       "    <tr style=\"text-align: right;\">\n",
       "      <th></th>\n",
       "      <th>date</th>\n",
       "      <th>vendor_id</th>\n",
       "      <th>chain_id</th>\n",
       "      <th>city_id</th>\n",
       "      <th>spec</th>\n",
       "      <th>successful_orders</th>\n",
       "      <th>fail_orders</th>\n",
       "    </tr>\n",
       "  </thead>\n",
       "  <tbody>\n",
       "    <tr>\n",
       "      <th>0</th>\n",
       "      <td>2019-07-02</td>\n",
       "      <td>40065</td>\n",
       "      <td>7501</td>\n",
       "      <td>23</td>\n",
       "      <td>Суши</td>\n",
       "      <td>54.0</td>\n",
       "      <td>1.0</td>\n",
       "    </tr>\n",
       "    <tr>\n",
       "      <th>1</th>\n",
       "      <td>2019-08-27</td>\n",
       "      <td>48058</td>\n",
       "      <td>33226</td>\n",
       "      <td>23</td>\n",
       "      <td>Шаурма</td>\n",
       "      <td>0.0</td>\n",
       "      <td>0.0</td>\n",
       "    </tr>\n",
       "    <tr>\n",
       "      <th>2</th>\n",
       "      <td>2019-09-25</td>\n",
       "      <td>35430</td>\n",
       "      <td>26220</td>\n",
       "      <td>25</td>\n",
       "      <td>Пицца</td>\n",
       "      <td>2.0</td>\n",
       "      <td>0.0</td>\n",
       "    </tr>\n",
       "    <tr>\n",
       "      <th>3</th>\n",
       "      <td>2019-09-21</td>\n",
       "      <td>56553</td>\n",
       "      <td>38601</td>\n",
       "      <td>23</td>\n",
       "      <td>Шашлыки</td>\n",
       "      <td>1.0</td>\n",
       "      <td>0.0</td>\n",
       "    </tr>\n",
       "    <tr>\n",
       "      <th>4</th>\n",
       "      <td>2019-09-21</td>\n",
       "      <td>43919</td>\n",
       "      <td>30984</td>\n",
       "      <td>25</td>\n",
       "      <td>Суши</td>\n",
       "      <td>6.0</td>\n",
       "      <td>0.0</td>\n",
       "    </tr>\n",
       "  </tbody>\n",
       "</table>\n",
       "</div>"
      ],
      "text/plain": [
       "         date  vendor_id  chain_id  city_id     spec  successful_orders  \\\n",
       "0  2019-07-02      40065      7501       23     Суши               54.0   \n",
       "1  2019-08-27      48058     33226       23   Шаурма                0.0   \n",
       "2  2019-09-25      35430     26220       25    Пицца                2.0   \n",
       "3  2019-09-21      56553     38601       23  Шашлыки                1.0   \n",
       "4  2019-09-21      43919     30984       25     Суши                6.0   \n",
       "\n",
       "   fail_orders  \n",
       "0          1.0  \n",
       "1          0.0  \n",
       "2          0.0  \n",
       "3          0.0  \n",
       "4          0.0  "
      ]
     },
     "execution_count": 51,
     "metadata": {},
     "output_type": "execute_result"
    }
   ],
   "source": [
    "data.head()"
   ]
  },
  {
   "cell_type": "code",
   "execution_count": 59,
   "id": "7a0a1b49",
   "metadata": {},
   "outputs": [
    {
     "data": {
      "text/plain": [
       "city_id    4\n",
       "dtype: int64"
      ]
     },
     "execution_count": 59,
     "metadata": {},
     "output_type": "execute_result"
    }
   ],
   "source": [
    "# Сколько уникальных городов представлено в этом датафрейме?\n",
    "\n",
    "data[['city_id']].nunique()"
   ]
  },
  {
   "cell_type": "code",
   "execution_count": 70,
   "id": "9f58c73e",
   "metadata": {},
   "outputs": [
    {
     "data": {
      "text/plain": [
       "spec          1\n",
       "vendor_id    18\n",
       "dtype: int64"
      ]
     },
     "execution_count": 70,
     "metadata": {},
     "output_type": "execute_result"
    }
   ],
   "source": [
    "#Сколько ресторанов в таблице специализируются на рыбе?\n",
    "\n",
    "data[(data.spec == 'Рыба')][['spec', 'vendor_id']].nunique()"
   ]
  },
  {
   "cell_type": "code",
   "execution_count": 79,
   "id": "e14cbb71",
   "metadata": {},
   "outputs": [
    {
     "data": {
      "text/plain": [
       "date                  object\n",
       "vendor_id              int64\n",
       "chain_id               int64\n",
       "city_id                int64\n",
       "spec                  object\n",
       "successful_orders    float64\n",
       "fail_orders          float64\n",
       "dtype: object"
      ]
     },
     "execution_count": 79,
     "metadata": {},
     "output_type": "execute_result"
    }
   ],
   "source": [
    "# Сколько колонок в датафрейме имеют тип данных float64?\n",
    "\n",
    "data.dtypes"
   ]
  },
  {
   "cell_type": "code",
   "execution_count": 83,
   "id": "86cf5922",
   "metadata": {},
   "outputs": [
    {
     "data": {
      "text/html": [
       "<div>\n",
       "<style scoped>\n",
       "    .dataframe tbody tr th:only-of-type {\n",
       "        vertical-align: middle;\n",
       "    }\n",
       "\n",
       "    .dataframe tbody tr th {\n",
       "        vertical-align: top;\n",
       "    }\n",
       "\n",
       "    .dataframe thead th {\n",
       "        text-align: right;\n",
       "    }\n",
       "</style>\n",
       "<table border=\"1\" class=\"dataframe\">\n",
       "  <thead>\n",
       "    <tr style=\"text-align: right;\">\n",
       "      <th></th>\n",
       "      <th>date</th>\n",
       "      <th>vendor_id</th>\n",
       "      <th>chain_id</th>\n",
       "      <th>city_id</th>\n",
       "      <th>spec</th>\n",
       "      <th>successful_orders</th>\n",
       "      <th>fail_orders</th>\n",
       "    </tr>\n",
       "  </thead>\n",
       "  <tbody>\n",
       "    <tr>\n",
       "      <th>0</th>\n",
       "      <td>2019-07-02</td>\n",
       "      <td>40065</td>\n",
       "      <td>7501</td>\n",
       "      <td>23</td>\n",
       "      <td>Суши</td>\n",
       "      <td>54.0</td>\n",
       "      <td>1.0</td>\n",
       "    </tr>\n",
       "    <tr>\n",
       "      <th>1477</th>\n",
       "      <td>2019-07-29</td>\n",
       "      <td>40065</td>\n",
       "      <td>7501</td>\n",
       "      <td>23</td>\n",
       "      <td>Суши</td>\n",
       "      <td>12.0</td>\n",
       "      <td>0.0</td>\n",
       "    </tr>\n",
       "    <tr>\n",
       "      <th>2678</th>\n",
       "      <td>2019-08-28</td>\n",
       "      <td>40065</td>\n",
       "      <td>7501</td>\n",
       "      <td>23</td>\n",
       "      <td>Суши</td>\n",
       "      <td>19.0</td>\n",
       "      <td>0.0</td>\n",
       "    </tr>\n",
       "    <tr>\n",
       "      <th>2679</th>\n",
       "      <td>2019-08-11</td>\n",
       "      <td>40065</td>\n",
       "      <td>7501</td>\n",
       "      <td>23</td>\n",
       "      <td>Суши</td>\n",
       "      <td>20.0</td>\n",
       "      <td>0.0</td>\n",
       "    </tr>\n",
       "    <tr>\n",
       "      <th>3263</th>\n",
       "      <td>2019-09-15</td>\n",
       "      <td>40065</td>\n",
       "      <td>7501</td>\n",
       "      <td>23</td>\n",
       "      <td>Суши</td>\n",
       "      <td>14.0</td>\n",
       "      <td>0.0</td>\n",
       "    </tr>\n",
       "    <tr>\n",
       "      <th>...</th>\n",
       "      <td>...</td>\n",
       "      <td>...</td>\n",
       "      <td>...</td>\n",
       "      <td>...</td>\n",
       "      <td>...</td>\n",
       "      <td>...</td>\n",
       "      <td>...</td>\n",
       "    </tr>\n",
       "    <tr>\n",
       "      <th>94433</th>\n",
       "      <td>2019-07-14</td>\n",
       "      <td>40065</td>\n",
       "      <td>7501</td>\n",
       "      <td>23</td>\n",
       "      <td>Суши</td>\n",
       "      <td>17.0</td>\n",
       "      <td>0.0</td>\n",
       "    </tr>\n",
       "    <tr>\n",
       "      <th>94541</th>\n",
       "      <td>2019-08-22</td>\n",
       "      <td>40065</td>\n",
       "      <td>7501</td>\n",
       "      <td>23</td>\n",
       "      <td>Суши</td>\n",
       "      <td>32.0</td>\n",
       "      <td>0.0</td>\n",
       "    </tr>\n",
       "    <tr>\n",
       "      <th>94722</th>\n",
       "      <td>2019-09-19</td>\n",
       "      <td>40065</td>\n",
       "      <td>7501</td>\n",
       "      <td>23</td>\n",
       "      <td>Суши</td>\n",
       "      <td>36.0</td>\n",
       "      <td>1.0</td>\n",
       "    </tr>\n",
       "    <tr>\n",
       "      <th>95036</th>\n",
       "      <td>2019-07-01</td>\n",
       "      <td>40065</td>\n",
       "      <td>7501</td>\n",
       "      <td>23</td>\n",
       "      <td>Суши</td>\n",
       "      <td>15.0</td>\n",
       "      <td>2.0</td>\n",
       "    </tr>\n",
       "    <tr>\n",
       "      <th>95608</th>\n",
       "      <td>2019-08-12</td>\n",
       "      <td>40065</td>\n",
       "      <td>7501</td>\n",
       "      <td>23</td>\n",
       "      <td>Суши</td>\n",
       "      <td>22.0</td>\n",
       "      <td>0.0</td>\n",
       "    </tr>\n",
       "  </tbody>\n",
       "</table>\n",
       "<p>121 rows × 7 columns</p>\n",
       "</div>"
      ],
      "text/plain": [
       "             date  vendor_id  chain_id  city_id  spec  successful_orders  \\\n",
       "0      2019-07-02      40065      7501       23  Суши               54.0   \n",
       "1477   2019-07-29      40065      7501       23  Суши               12.0   \n",
       "2678   2019-08-28      40065      7501       23  Суши               19.0   \n",
       "2679   2019-08-11      40065      7501       23  Суши               20.0   \n",
       "3263   2019-09-15      40065      7501       23  Суши               14.0   \n",
       "...           ...        ...       ...      ...   ...                ...   \n",
       "94433  2019-07-14      40065      7501       23  Суши               17.0   \n",
       "94541  2019-08-22      40065      7501       23  Суши               32.0   \n",
       "94722  2019-09-19      40065      7501       23  Суши               36.0   \n",
       "95036  2019-07-01      40065      7501       23  Суши               15.0   \n",
       "95608  2019-08-12      40065      7501       23  Суши               22.0   \n",
       "\n",
       "       fail_orders  \n",
       "0              1.0  \n",
       "1477           0.0  \n",
       "2678           0.0  \n",
       "2679           0.0  \n",
       "3263           0.0  \n",
       "...            ...  \n",
       "94433          0.0  \n",
       "94541          0.0  \n",
       "94722          1.0  \n",
       "95036          2.0  \n",
       "95608          0.0  \n",
       "\n",
       "[121 rows x 7 columns]"
      ]
     },
     "execution_count": 83,
     "metadata": {},
     "output_type": "execute_result"
    }
   ],
   "source": [
    "# Сколько дней у ресторана с идентификатором 40065 было менее 20 успешных заказов? \n",
    "# Ответ введите целыми числами через запятую.\n",
    "\n",
    "data[(data.vendor_id == 40065) & (data.fail_orders < 20)]"
   ]
  },
  {
   "cell_type": "code",
   "execution_count": null,
   "id": "d622f4cf",
   "metadata": {},
   "outputs": [],
   "source": []
  },
  {
   "cell_type": "code",
   "execution_count": null,
   "id": "3e786886",
   "metadata": {},
   "outputs": [],
   "source": []
  },
  {
   "cell_type": "code",
   "execution_count": null,
   "id": "515c6fe5",
   "metadata": {},
   "outputs": [],
   "source": []
  }
 ],
 "metadata": {
  "kernelspec": {
   "display_name": "Python 3",
   "language": "python",
   "name": "python3"
  },
  "language_info": {
   "codemirror_mode": {
    "name": "ipython",
    "version": 3
   },
   "file_extension": ".py",
   "mimetype": "text/x-python",
   "name": "python",
   "nbconvert_exporter": "python",
   "pygments_lexer": "ipython3",
   "version": "3.8.8"
  }
 },
 "nbformat": 4,
 "nbformat_minor": 5
}
