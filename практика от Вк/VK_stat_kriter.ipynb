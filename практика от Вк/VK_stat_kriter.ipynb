{
 "cells": [
  {
   "cell_type": "markdown",
   "id": "817fd659",
   "metadata": {},
   "source": [
    "### Статистические критерии. ANOVA"
   ]
  },
  {
   "cell_type": "code",
   "execution_count": 34,
   "id": "c82dcdc6",
   "metadata": {},
   "outputs": [],
   "source": [
    "import numpy as np\n",
    "import pandas as pd\n",
    "import scipy\n",
    "from scipy import stats\n",
    "%matplotlib inline\n",
    "import matplotlib.pyplot as plt\n",
    "\n",
    "from IPython.display import *"
   ]
  },
  {
   "cell_type": "markdown",
   "id": "d3ad95e1",
   "metadata": {},
   "source": [
    "#### Сгенерируем теоретическую генеральную совокупность"
   ]
  },
  {
   "cell_type": "code",
   "execution_count": 11,
   "id": "aa1a0c1d",
   "metadata": {},
   "outputs": [
    {
     "data": {
      "image/png": "[encoded data removed]",
      "text/plain": [
       "<Figure size 1008x504 with 1 Axes>"
      ]
     },
     "metadata": {
      "needs_background": "light"
     },
     "output_type": "display_data"
    }
   ],
   "source": [
    "distrib = stats.norm(loc = 35, scale = 10)\n",
    "gen_pop = distrib.rvs(size=10000)\n",
    "\n",
    "fig = plt.figure(figsize=(14,7))\n",
    "ax1 = plt.subplot(111)\n",
    "plt.hist(gen_pop, 100)\n",
    "plt.show()"
   ]
  },
  {
   "cell_type": "markdown",
   "id": "c365eebb",
   "metadata": {},
   "source": [
    "#### Извлечём из совокупности 3 слуайные подгруппы по 50 заказов в каждой - пусть это будут наблюдения, полученный в реальном эксперименте"
   ]
  },
  {
   "cell_type": "code",
   "execution_count": 14,
   "id": "a9fd9b36",
   "metadata": {},
   "outputs": [
    {
     "data": {
      "text/plain": [
       "array([[36, 31, 18, 35, 38, 30, 32, 32, 22, 35, 16, 36, 36, 32, 37, 42,\n",
       "        20, 38, 28, 44, 30, 55, 43, 44, 50, 41, 34, 32, 39, 36, 42, 24,\n",
       "        17, 31, 45, 26, 51, 40, 46, 55, 51, 44, 37, 32, 20, 34, 33, 41,\n",
       "        11, 18],\n",
       "       [37, 37, 32, 41, 52, 42, 26, 34, 31, 32, 18, 29, 32, 41, 45, 32,\n",
       "        24, 29, 39, 26, 23, 40, 32, 38, 49, 44, 36, 23, 42, 17, 29, 38,\n",
       "        38, 51, 44, 23, 43, 37, 50, 40, 52, 52, 37, 34, 32, 30, 23, 38,\n",
       "        37, 29],\n",
       "       [48, 23, 32, 26, 28, 17, 27, 46, 17, 37, 38, 42, 33, 31, 16, 42,\n",
       "        52, 37, 28, 45, 23, 39, 26, 17, 38, 44, 28, 21, 36, 22, 38, 31,\n",
       "        22, 51, 30, 29, 43, 23, 28, 47, 19, 31, 27, 28, 28, 23, 37, 32,\n",
       "        26, 38]])"
      ]
     },
     "execution_count": 14,
     "metadata": {},
     "output_type": "execute_result"
    }
   ],
   "source": [
    "np.random.seed(3106)\n",
    "sample_groups = []\n",
    "\n",
    "for i in range(3):\n",
    "    sample_groups.append(np.random.choice(gen_pop, size=50).astype(int))\n",
    "\n",
    "sample_groups = np.array(sample_groups)\n",
    "sample_groups"
   ]
  },
  {
   "cell_type": "markdown",
   "id": "06e9c87b",
   "metadata": {},
   "source": [
    "#### Рассчитаем :\n",
    "#### - среднее каждой выборки и стандартное отклонение (голубые линии на графике)\n",
    "#### - среднее средних и стандартное отклонение средних (оранжевая линия на графике)"
   ]
  },
  {
   "cell_type": "code",
   "execution_count": 15,
   "id": "98ebe56e",
   "metadata": {},
   "outputs": [
    {
     "data": {
      "image/png": "[encoded data removed]",
      "text/plain": [
       "<Figure size 1008x504 with 1 Axes>"
      ]
     },
     "metadata": {
      "needs_background": "light"
     },
     "output_type": "display_data"
    }
   ],
   "source": [
    "x = np.mean(sample_groups, axis=1)\n",
    "y = np.arange(sample_groups.shape[0])\n",
    "e = np.std(sample_groups, axis=1)\n",
    "\n",
    "fig = plt.figure(figsize=(14,7))\n",
    "plt.errorbar(x, y, xerr = e, linestyle='None', marker='o')\n",
    "plt.errorbar(np.mean(x), y.shape[0], xerr = np.std(x), linestyle='None', marker='o')\n",
    "\n",
    "plt.show()"
   ]
  },
  {
   "cell_type": "markdown",
   "id": "39244624",
   "metadata": {},
   "source": [
    "#### 1) Формулируются гипотезы H0 и H1\n",
    "###### H0 - выборки взяты из одного распределения (среднее всех выборок равны)\n",
    "###### H1 - выборки взяты из разных распределний (хотя бы пара средних различается между собой)"
   ]
  },
  {
   "cell_type": "markdown",
   "id": "2a3f63cf",
   "metadata": {},
   "source": [
    "#### 2) Фиксируется уровень значимости критерия значимости\n",
    "###### Зададим alpha на уровне значимости 5%"
   ]
  },
  {
   "cell_type": "markdown",
   "id": "56844cc2",
   "metadata": {},
   "source": [
    "#### 3) Выбирается статистический критерий для проверки гипотезы\n",
    "###### Будем использовать ANOVA"
   ]
  },
  {
   "cell_type": "markdown",
   "id": "4472303a",
   "metadata": {},
   "source": [
    "#### 4) По выборочным данным вычисляется значение К-наблюдаемое по распределению выбранной статистики"
   ]
  },
  {
   "cell_type": "code",
   "execution_count": 22,
   "id": "787f194c",
   "metadata": {},
   "outputs": [
    {
     "data": {
      "text/plain": [
       "3"
      ]
     },
     "execution_count": 22,
     "metadata": {},
     "output_type": "execute_result"
    }
   ],
   "source": [
    "num_of_groups = sample_groups.shape[0]\n",
    "num_of_groups"
   ]
  },
  {
   "cell_type": "code",
   "execution_count": 17,
   "id": "e92bf95b",
   "metadata": {},
   "outputs": [
    {
     "data": {
      "text/plain": [
       "34.06666666666667"
      ]
     },
     "execution_count": 17,
     "metadata": {},
     "output_type": "execute_result"
    }
   ],
   "source": [
    "# Рассчитаем среднее по всем наблюдениям\n",
    "\n",
    "X_mean = sample_groups.mean()\n",
    "X_mean"
   ]
  },
  {
   "cell_type": "code",
   "execution_count": 27,
   "id": "11052bef",
   "metadata": {},
   "outputs": [],
   "source": [
    "# Рассчитаем среднее для каждой группы\n",
    "\n",
    "group_means = sample_groups.mean(axis=1)\n",
    "group_means_reshaped = group_means.reshape(num_of_groups, 1)"
   ]
  },
  {
   "cell_type": "code",
   "execution_count": 28,
   "id": "053f33be",
   "metadata": {},
   "outputs": [
    {
     "data": {
      "text/plain": [
       "13374.0"
      ]
     },
     "execution_count": 28,
     "metadata": {},
     "output_type": "execute_result"
    }
   ],
   "source": [
    "# SSW - сумма средних квадратических отклонений\n",
    "SSW = np.sum((sample_groups - group_means_reshaped)**2)\n",
    "SSW"
   ]
  },
  {
   "cell_type": "code",
   "execution_count": 29,
   "id": "9c81f0fa",
   "metadata": {},
   "outputs": [
    {
     "data": {
      "text/plain": [
       "401.33333333333314"
      ]
     },
     "execution_count": 29,
     "metadata": {},
     "output_type": "execute_result"
    }
   ],
   "source": [
    "# SSB - сумма отклонения групповых средних от средненего всей совокупности\n",
    "group_lengths = [x.shape[0] for x in sample_groups]\n",
    "\n",
    "SSB = np.sum((group_means - X_mean)**2 * group_lengths)\n",
    "SSB"
   ]
  },
  {
   "cell_type": "code",
   "execution_count": 30,
   "id": "d7dae5fe",
   "metadata": {},
   "outputs": [
    {
     "data": {
      "text/plain": [
       "2.205622850306564"
      ]
     },
     "execution_count": 30,
     "metadata": {},
     "output_type": "execute_result"
    }
   ],
   "source": [
    "# F - критерий Фишер\n",
    "m = num_of_groups\n",
    "N = np.sum(group_lengths)\n",
    "\n",
    "F = (SSB/(m-1)) / (SSW/(N-m))\n",
    "F"
   ]
  },
  {
   "cell_type": "code",
   "execution_count": 31,
   "id": "caa1b466",
   "metadata": {},
   "outputs": [],
   "source": [
    "# Воспользуемся пакетом stats для аналогичного расчета\n",
    "\n",
    "F, p = stats.f_oneway(*sample_groups)"
   ]
  },
  {
   "cell_type": "code",
   "execution_count": 32,
   "id": "dfb2df1e",
   "metadata": {},
   "outputs": [
    {
     "data": {
      "text/plain": [
       "2.2056228503065647"
      ]
     },
     "execution_count": 32,
     "metadata": {},
     "output_type": "execute_result"
    }
   ],
   "source": [
    "F"
   ]
  },
  {
   "cell_type": "markdown",
   "id": "a7f58ec4",
   "metadata": {},
   "source": [
    "#### 5) С учётом выбранного уровня значимости вычисляется критическая област и область принтия гипотезы, то есть находится К-критическое"
   ]
  },
  {
   "cell_type": "code",
   "execution_count": 35,
   "id": "d3af7d66",
   "metadata": {},
   "outputs": [
    {
     "data": {
      "text/plain": [
       "2.6661487758521765"
      ]
     },
     "execution_count": 35,
     "metadata": {},
     "output_type": "execute_result"
    }
   ],
   "source": [
    "# F-критическоее \n",
    "F_critical = scipy.stats.f.ppf(q=1-.05, dfn=m, dfd=N-m)\n",
    "F_critical"
   ]
  },
  {
   "cell_type": "markdown",
   "id": "fc6462a2",
   "metadata": {},
   "source": [
    "#### 6) Найденное значение К-наблюдаемое критерия сравнивается с К-критическое и по результатм сравнения делается вывод"
   ]
  },
  {
   "cell_type": "code",
   "execution_count": 36,
   "id": "471e6d30",
   "metadata": {},
   "outputs": [
    {
     "data": {
      "text/plain": [
       "True"
      ]
     },
     "execution_count": 36,
     "metadata": {},
     "output_type": "execute_result"
    }
   ],
   "source": [
    "F < F_critical"
   ]
  },
  {
   "cell_type": "markdown",
   "id": "3c647ccc",
   "metadata": {},
   "source": [
    "#### Вывод: Мы не можем отвергнуть гипотезу H0"
   ]
  },
  {
   "cell_type": "code",
   "execution_count": 38,
   "id": "10221824",
   "metadata": {},
   "outputs": [
    {
     "data": {
      "text/plain": [
       "0.11381548763928748"
      ]
     },
     "execution_count": 38,
     "metadata": {},
     "output_type": "execute_result"
    }
   ],
   "source": [
    "p"
   ]
  },
  {
   "cell_type": "code",
   "execution_count": 39,
   "id": "f0b9efb6",
   "metadata": {},
   "outputs": [
    {
     "data": {
      "text/plain": [
       "True"
      ]
     },
     "execution_count": 39,
     "metadata": {},
     "output_type": "execute_result"
    }
   ],
   "source": [
    "p > 0.05"
   ]
  },
  {
   "cell_type": "code",
   "execution_count": null,
   "id": "585e631b",
   "metadata": {},
   "outputs": [],
   "source": []
  }
 ],
 "metadata": {
  "kernelspec": {
   "display_name": "Python 3",
   "language": "python",
   "name": "python3"
  },
  "language_info": {
   "codemirror_mode": {
    "name": "ipython",
    "version": 3
   },
   "file_extension": ".py",
   "mimetype": "text/x-python",
   "name": "python",
   "nbconvert_exporter": "python",
   "pygments_lexer": "ipython3",
   "version": "3.8.8"
  }
 },
 "nbformat": 4,
 "nbformat_minor": 5
}
